{
 "cells": [
  {
   "cell_type": "markdown",
   "id": "362b6b5c-8668-46b6-b5d8-00888c5580fa",
   "metadata": {},
   "source": [
    "아래는 ALO 기본 설정 및 라이브러리 설치 코드입니다. library 설치 에러가 발생하면 아래 셀을 재실행 하고, 지속적으로 문제가 있을 시 문의바랍니다"
   ]
  },
  {
   "cell_type": "code",
   "execution_count": 1,
   "id": "137cd365-9ed9-4941-aa2e-67fca06e1a4f",
   "metadata": {
    "tags": []
   },
   "outputs": [
    {
     "name": "stdout",
     "output_type": "stream",
     "text": [
      "\u001b[94m======================================== Start dependency installation : << master >> \u001b[0m\n",
      "\u001b[93m>> Start checking existence & installing package - alolib@git+http://mod.lge.com/hub/dxadvtech/aicontents-framework/alolib-source.git@release-1.1 | Progress: ( 1 / 1 total packages )\u001b[0m\n",
      "\u001b[92m- << alolib@git+http://mod.lge.com/hub/dxadvtech/aicontents-framework/alolib-source.git@release-1.1 >> already exists\u001b[0m\n",
      "\u001b[94m======================================== Start dependency installation : << force-reinstall >> \u001b[0m\n",
      "\u001b[94m======================================== Finish dependency installation \n",
      "\u001b[0m\n",
      "\u001b[94m======================================== Start dependency installation : << master >> \u001b[0m\n",
      "\u001b[93m>> Start checking existence & installing package - alolib@git+http://mod.lge.com/hub/dxadvtech/aicontents-framework/alolib-source.git@release-1.1 | Progress: ( 1 / 1 total packages )\u001b[0m\n",
      "\u001b[92m- << alolib@git+http://mod.lge.com/hub/dxadvtech/aicontents-framework/alolib-source.git@release-1.1 >> already exists\u001b[0m\n",
      "\u001b[94m======================================== Start dependency installation : << force-reinstall >> \u001b[0m\n",
      "\u001b[94m======================================== Finish dependency installation \n",
      "\u001b[0m\n",
      "\u001b[94m======================================== Start dependency installation : << master >> \u001b[0m\n",
      "\u001b[93m>> Start checking existence & installing package - alolib@git+http://mod.lge.com/hub/dxadvtech/aicontents-framework/alolib-source.git@release-1.1 | Progress: ( 1 / 1 total packages )\u001b[0m\n",
      "\u001b[92m- << alolib@git+http://mod.lge.com/hub/dxadvtech/aicontents-framework/alolib-source.git@release-1.1 >> already exists\u001b[0m\n",
      "\u001b[94m======================================== Start dependency installation : << force-reinstall >> \u001b[0m\n",
      "\u001b[94m======================================== Finish dependency installation \n",
      "\u001b[0m\n",
      "\u001b[94m>> Start renewing asset : /home/jovyan/ic/alo/assets/input\u001b[0m\n",
      "\u001b[92m/home/jovyan/ic/alo/assets/input successfully pulled.\u001b[0m\n",
      "\u001b[94m>> Start renewing asset : /home/jovyan/ic/alo/assets/train\u001b[0m\n",
      "\u001b[92m/home/jovyan/ic/alo/assets/train successfully pulled.\u001b[0m\n",
      "\u001b[92m======================================== Start dependency installation - step : << master >> ========================================\u001b[0m\n",
      "\u001b[93m>> Start checking existence & installing package - alolib@git+http://mod.lge.com/hub/dxadvtech/aicontents-framework/alolib-source.git@release-1.1 | Progress: ( 1 / 8 total packages )\u001b[0m\n",
      "\u001b[94m- << alolib@git+http://mod.lge.com/hub/dxadvtech/aicontents-framework/alolib-source.git@release-1.1 >> already exists\u001b[0m\n",
      "\u001b[92m======================================== Start dependency installation - step : << input >> ========================================\u001b[0m\n",
      "\u001b[93m>> Start checking existence & installing package - pandas==1.5.3 | Progress: ( 2 / 8 total packages )\u001b[0m\n",
      "\u001b[94m- << pandas==1.5.3 >> already exists\u001b[0m\n",
      "\u001b[93m>> Start checking existence & installing package - pillow | Progress: ( 3 / 8 total packages )\u001b[0m\n",
      "\u001b[94m- << pillow >> already exists\u001b[0m\n",
      "\u001b[92m======================================== Start dependency installation - step : << train >> ========================================\u001b[0m\n",
      "\u001b[93m>> Start checking existence & installing package - tensorflow==2.9.0 | Progress: ( 4 / 8 total packages )\u001b[0m\n",
      "\u001b[94m- << tensorflow==2.9.0 >> already exists\u001b[0m\n",
      "\u001b[93m>> Start checking existence & installing package - scikit-optimize | Progress: ( 5 / 8 total packages )\u001b[0m\n",
      "\u001b[94m- << scikit-optimize >> already exists\u001b[0m\n",
      "\u001b[93m>> Start checking existence & installing package - keras_applications==1.0.8 | Progress: ( 6 / 8 total packages )\u001b[0m\n",
      "\u001b[94m- << keras_applications==1.0.8 >> already exists\u001b[0m\n",
      "\u001b[93m>> Start checking existence & installing package - focal-loss | Progress: ( 7 / 8 total packages )\u001b[0m\n",
      "\u001b[94m- << focal-loss >> already exists\u001b[0m\n",
      "\u001b[93m>> Start checking existence & installing package - opencv-python | Progress: ( 8 / 8 total packages )\u001b[0m\n",
      "\u001b[94m- << opencv-python >> already exists\u001b[0m\n",
      "\u001b[92m======================================== Finish dependency installation ======================================== \n",
      "\u001b[0m\n",
      "\u001b[94m>> Start removing pre-existing input data before fetching external data: <DirEntry 'test'>\u001b[0m\n",
      "\u001b[94m>> Start removing pre-existing input data before fetching external data: <DirEntry 'train'>\u001b[0m\n",
      "\u001b[92m>> s3 private key file << load_s3_key_path >> loaded successfully.\u001b[0m\n",
      "\u001b[93m>> Start fetching external data from << /nas001/users/ruci.sung/mnist/train/ >> into << input >> folder.\u001b[0m\n",
      "\u001b[93m>> Start fetching external data from << /nas001/users/ruci.sung/mnist/test/ >> into << input >> folder.\u001b[0m\n"
     ]
    }
   ],
   "source": [
    "import os\n",
    "import jupyter_supporter as js \n",
    "from jupyter_supporter import make_ground_truth\n",
    "import copy\n",
    "os.chdir(os.path.abspath(os.path.join('..')))\n",
    "\n",
    "JS=js.Jsupport()\n",
    "JS.download_data()"
   ]
  },
  {
   "cell_type": "markdown",
   "id": "a2fb8e31",
   "metadata": {},
   "source": [
    "## Ground truth data 만들기 샘플 코드"
   ]
  },
  {
   "cell_type": "code",
   "execution_count": 2,
   "id": "062e4cd5",
   "metadata": {},
   "outputs": [
    {
     "name": "stdout",
     "output_type": "stream",
     "text": [
      "['5', '/nas001/users/yoonji.suh/sample_data/mnist_png/mnist_png/train/5/100.png']\n",
      "['5', '/nas001/users/yoonji.suh/sample_data/mnist_png/mnist_png/train/5/42085.png']\n",
      "['5', '/nas001/users/yoonji.suh/sample_data/mnist_png/mnist_png/train/5/4119.png']\n",
      "['5', '/nas001/users/yoonji.suh/sample_data/mnist_png/mnist_png/train/5/7260.png']\n",
      "['5', '/nas001/users/yoonji.suh/sample_data/mnist_png/mnist_png/train/5/52231.png']\n",
      "complete\n"
     ]
    },
    {
     "data": {
      "text/html": [
       "<div>\n",
       "<style scoped>\n",
       "    .dataframe tbody tr th:only-of-type {\n",
       "        vertical-align: middle;\n",
       "    }\n",
       "\n",
       "    .dataframe tbody tr th {\n",
       "        vertical-align: top;\n",
       "    }\n",
       "\n",
       "    .dataframe thead th {\n",
       "        text-align: right;\n",
       "    }\n",
       "</style>\n",
       "<table border=\"1\" class=\"dataframe\">\n",
       "  <thead>\n",
       "    <tr style=\"text-align: right;\">\n",
       "      <th></th>\n",
       "      <th>label</th>\n",
       "      <th>image_path</th>\n",
       "    </tr>\n",
       "  </thead>\n",
       "  <tbody>\n",
       "    <tr>\n",
       "      <th>0</th>\n",
       "      <td>5</td>\n",
       "      <td>/nas001/users/yoonji.suh/sample_data/mnist_png...</td>\n",
       "    </tr>\n",
       "    <tr>\n",
       "      <th>1</th>\n",
       "      <td>5</td>\n",
       "      <td>/nas001/users/yoonji.suh/sample_data/mnist_png...</td>\n",
       "    </tr>\n",
       "    <tr>\n",
       "      <th>2</th>\n",
       "      <td>5</td>\n",
       "      <td>/nas001/users/yoonji.suh/sample_data/mnist_png...</td>\n",
       "    </tr>\n",
       "    <tr>\n",
       "      <th>3</th>\n",
       "      <td>5</td>\n",
       "      <td>/nas001/users/yoonji.suh/sample_data/mnist_png...</td>\n",
       "    </tr>\n",
       "    <tr>\n",
       "      <th>4</th>\n",
       "      <td>5</td>\n",
       "      <td>/nas001/users/yoonji.suh/sample_data/mnist_png...</td>\n",
       "    </tr>\n",
       "  </tbody>\n",
       "</table>\n",
       "</div>"
      ],
      "text/plain": [
       "  label                                         image_path\n",
       "0     5  /nas001/users/yoonji.suh/sample_data/mnist_png...\n",
       "1     5  /nas001/users/yoonji.suh/sample_data/mnist_png...\n",
       "2     5  /nas001/users/yoonji.suh/sample_data/mnist_png...\n",
       "3     5  /nas001/users/yoonji.suh/sample_data/mnist_png...\n",
       "4     5  /nas001/users/yoonji.suh/sample_data/mnist_png..."
      ]
     },
     "execution_count": 2,
     "metadata": {},
     "output_type": "execute_result"
    }
   ],
   "source": [
    "# train 혹은 test 데이터 각각에 대해 ground truth 파일을 각각 만들어야 합니다.\n",
    "\n",
    "# train 혹은 test 데이터가 있는 폴더명을 입력합니다.\n",
    "dataDir = '/nas001/users/yoonji.suh/sample_data/mnist_png/mnist_png/train/'\n",
    "# ground truth 파일이 저장될 경로를 확장자 까지 입력합니다.\n",
    "saveDir = '/home/jovyan/testCsv.csv'\n",
    "\n",
    "lst,df = make_ground_truth(dataDir,saveDir)\n",
    "print('complete')\n",
    "df.head()"
   ]
  },
  {
   "cell_type": "markdown",
   "id": "9b9f36d6-84e0-440e-80d3-b462254b006a",
   "metadata": {
    "tags": []
   },
   "source": [
    "## Train workflow \n",
    "### 1. Input asset \n",
    "##### Input asset의 arguments 수정 및 확인\n",
    "- 필요한경우 input_args의 항목을 ***input_args[argument명]=value입력*** 을 통해 변경할 수 있습니다.  "
   ]
  },
  {
   "cell_type": "code",
   "execution_count": 3,
   "id": "90e2c80e-0a14-4e19-b50f-2aa621aec2da",
   "metadata": {
    "tags": []
   },
   "outputs": [
    {
     "data": {
      "text/plain": [
       "{'input_path': 'train/',\n",
       " 'y_column': 'label',\n",
       " 'path_column': 'image_path',\n",
       " 'data_source_type': 'batch',\n",
       " 'label_names': [0, 1, 2, 3, 4, 5, 6, 7, 8, 9],\n",
       " 'prediction_column_prefix': 'pred',\n",
       " 'probability_column_prefix': 'prob',\n",
       " 'set_images': True}"
      ]
     },
     "execution_count": 3,
     "metadata": {},
     "output_type": "execute_result"
    }
   ],
   "source": [
    "train_pipelines = 'train_pipeline'\n",
    "# IC train asset 순서에 따라 step 순서를 입력합니다. (input(0) - train(1))\n",
    "step = 0 \n",
    "input_args = JS.get_arguments(train_pipelines,step)\n",
    "\n",
    "# 아래 주석을 풀어 input_args를 원하는 값으로 수정합니다. \n",
    "# input_args['path_column'] = ['path']\n",
    "input_args"
   ]
  },
  {
   "cell_type": "markdown",
   "id": "017bbb5c-b15e-4b8b-98c9-9b355da55263",
   "metadata": {},
   "source": [
    "##### Input asset 실행 "
   ]
  },
  {
   "cell_type": "code",
   "execution_count": 4,
   "id": "0ac5a67f-02e5-49f5-9d44-34f24b08baaf",
   "metadata": {
    "tags": []
   },
   "outputs": [
    {
     "name": "stdout",
     "output_type": "stream",
     "text": [
      "\u001b[94m>> Start renewing asset : /home/jovyan/ic/alo/assets/input\u001b[0m\n",
      "\u001b[92m/home/jovyan/ic/alo/assets/input successfully pulled.\u001b[0m\n",
      "\n",
      "\n",
      "\n",
      "\u001b[94m============================= ASSET INFO =============================\u001b[0m\n",
      "\u001b[94mPIPELINES    : train_pipeline\u001b[0m\n",
      "\u001b[94mASSETS       : input\u001b[0m\n",
      "\u001b[94m=======================================================================\u001b[0m\n",
      "\n",
      "\n",
      "\n",
      "************************************************************\n",
      "************************************************************\n",
      ">>>>> Load path : ['/home/jovyan/ic/alo/input/train//']\n",
      "/home/jovyan/ic/alo/.asset_interface/train_pipeline/ 폴더와 하위 디렉토리가 삭제되었습니다.\n",
      "/home/jovyan/ic/alo/.asset_interface/train_pipeline/ 폴더가 생성되었습니다.\n"
     ]
    },
    {
     "name": "stderr",
     "output_type": "stream",
     "text": [
      "/home/jovyan/ic/alo/assets/input/data_input.py:265: SettingWithCopyWarning: \n",
      "A value is trying to be set on a copy of a slice from a DataFrame.\n",
      "Try using .loc[row_indexer,col_indexer] = value instead\n",
      "\n",
      "See the caveats in the documentation: https://pandas.pydata.org/pandas-docs/stable/user_guide/indexing.html#returning-a-view-versus-a-copy\n",
      "  data['new_image_path'] = data.apply(save_image_as_npy, axis=1)\n",
      "/home/jovyan/ic/alo/assets/input/data_input.py:268: SettingWithCopyWarning: \n",
      "A value is trying to be set on a copy of a slice from a DataFrame.\n",
      "Try using .loc[row_indexer,col_indexer] = value instead\n",
      "\n",
      "See the caveats in the documentation: https://pandas.pydata.org/pandas-docs/stable/user_guide/indexing.html#returning-a-view-versus-a-copy\n",
      "  data[self.path_column] = data['new_image_path']\n",
      "/home/jovyan/ic/alo/assets/input/data_input.py:271: SettingWithCopyWarning: \n",
      "A value is trying to be set on a copy of a slice from a DataFrame\n",
      "\n",
      "See the caveats in the documentation: https://pandas.pydata.org/pandas-docs/stable/user_guide/indexing.html#returning-a-view-versus-a-copy\n",
      "  data.drop(columns=['new_image_path'], inplace=True)\n"
     ]
    },
    {
     "data": {
      "text/html": [
       "<div>\n",
       "<style scoped>\n",
       "    .dataframe tbody tr th:only-of-type {\n",
       "        vertical-align: middle;\n",
       "    }\n",
       "\n",
       "    .dataframe tbody tr th {\n",
       "        vertical-align: top;\n",
       "    }\n",
       "\n",
       "    .dataframe thead th {\n",
       "        text-align: right;\n",
       "    }\n",
       "</style>\n",
       "<table border=\"1\" class=\"dataframe\">\n",
       "  <thead>\n",
       "    <tr style=\"text-align: right;\">\n",
       "      <th></th>\n",
       "      <th>image_path</th>\n",
       "      <th>label</th>\n",
       "    </tr>\n",
       "  </thead>\n",
       "  <tbody>\n",
       "    <tr>\n",
       "      <th>0</th>\n",
       "      <td>/home/jovyan/ic/alo/.asset_interface/train_pip...</td>\n",
       "      <td>7</td>\n",
       "    </tr>\n",
       "    <tr>\n",
       "      <th>1</th>\n",
       "      <td>/home/jovyan/ic/alo/.asset_interface/train_pip...</td>\n",
       "      <td>7</td>\n",
       "    </tr>\n",
       "    <tr>\n",
       "      <th>2</th>\n",
       "      <td>/home/jovyan/ic/alo/.asset_interface/train_pip...</td>\n",
       "      <td>7</td>\n",
       "    </tr>\n",
       "    <tr>\n",
       "      <th>3</th>\n",
       "      <td>/home/jovyan/ic/alo/.asset_interface/train_pip...</td>\n",
       "      <td>8</td>\n",
       "    </tr>\n",
       "    <tr>\n",
       "      <th>4</th>\n",
       "      <td>/home/jovyan/ic/alo/.asset_interface/train_pip...</td>\n",
       "      <td>4</td>\n",
       "    </tr>\n",
       "    <tr>\n",
       "      <th>5</th>\n",
       "      <td>/home/jovyan/ic/alo/.asset_interface/train_pip...</td>\n",
       "      <td>3</td>\n",
       "    </tr>\n",
       "    <tr>\n",
       "      <th>6</th>\n",
       "      <td>/home/jovyan/ic/alo/.asset_interface/train_pip...</td>\n",
       "      <td>3</td>\n",
       "    </tr>\n",
       "    <tr>\n",
       "      <th>7</th>\n",
       "      <td>/home/jovyan/ic/alo/.asset_interface/train_pip...</td>\n",
       "      <td>1</td>\n",
       "    </tr>\n",
       "    <tr>\n",
       "      <th>8</th>\n",
       "      <td>/home/jovyan/ic/alo/.asset_interface/train_pip...</td>\n",
       "      <td>6</td>\n",
       "    </tr>\n",
       "    <tr>\n",
       "      <th>9</th>\n",
       "      <td>/home/jovyan/ic/alo/.asset_interface/train_pip...</td>\n",
       "      <td>1</td>\n",
       "    </tr>\n",
       "  </tbody>\n",
       "</table>\n",
       "</div>"
      ],
      "text/plain": [
       "                                          image_path  label\n",
       "0  /home/jovyan/ic/alo/.asset_interface/train_pip...      7\n",
       "1  /home/jovyan/ic/alo/.asset_interface/train_pip...      7\n",
       "2  /home/jovyan/ic/alo/.asset_interface/train_pip...      7\n",
       "3  /home/jovyan/ic/alo/.asset_interface/train_pip...      8\n",
       "4  /home/jovyan/ic/alo/.asset_interface/train_pip...      4\n",
       "5  /home/jovyan/ic/alo/.asset_interface/train_pip...      3\n",
       "6  /home/jovyan/ic/alo/.asset_interface/train_pip...      3\n",
       "7  /home/jovyan/ic/alo/.asset_interface/train_pip...      1\n",
       "8  /home/jovyan/ic/alo/.asset_interface/train_pip...      6\n",
       "9  /home/jovyan/ic/alo/.asset_interface/train_pip...      1"
      ]
     },
     "execution_count": 4,
     "metadata": {},
     "output_type": "execute_result"
    }
   ],
   "source": [
    "data = pipe_val = 0 # 초기 input asset process 세팅\n",
    "data_input, config_input = JS.run(step, input_args, train_pipelines, data, pipe_val) \n",
    "# data_input: input asset의 결과물입니다. 다음 asset 실행 시 필요합니다. \n",
    "# config_input: input asset의 결과 config입니다. 다음 asset실행 시 필요합니다.\n",
    "\n",
    "# input asset의 결과 dataframe은 data_input['dataframe']으로 확인할 수 있습니다. \n",
    "data_input['dataframe'].head(10) "
   ]
  },
  {
   "cell_type": "markdown",
   "id": "c3b6a3a7-2204-42b5-8cc8-a5b5f740f457",
   "metadata": {},
   "source": [
    "</br>\n",
    "\n",
    "### 2. train asset \n",
    "##### train asset의 args수정 및 확인\n",
    "- 필요한경우 IC_args의 항목을 ***IC_args[argument명]=value입력*** 을 통해 변경할 수 있습니다.  "
   ]
  },
  {
   "cell_type": "code",
   "execution_count": 5,
   "id": "39f0149f-bfb4-4223-835a-769fd57594bc",
   "metadata": {
    "tags": []
   },
   "outputs": [
    {
     "data": {
      "text/plain": [
       "{'model_type': 'high_resolution',\n",
       " 'input_shape': [28, 28, 1],\n",
       " 'resize_shape': [224, 224, 3],\n",
       " 'num_classes': 10,\n",
       " 'epochs': 2,\n",
       " 'batch_size': 64,\n",
       " 'train_ratio': 0.8,\n",
       " 'rand_augmentation': False}"
      ]
     },
     "execution_count": 5,
     "metadata": {},
     "output_type": "execute_result"
    }
   ],
   "source": [
    "# IC train asset 순서에 따라 step 순서를 입력합니다. (input(0) - train(1))\n",
    "step = 1 \n",
    "ic_args = JS.get_arguments(train_pipelines,step)\n",
    "\n",
    "# 아래 주석을 풀어 ic_args를 수정합니다. \n",
    "# ic_args['epochs'] = 100\n",
    "ic_args"
   ]
  },
  {
   "cell_type": "markdown",
   "id": "ad0c0b28-561d-4815-b4fc-f2078e1a0f59",
   "metadata": {},
   "source": [
    "##### train asset 실행 "
   ]
  },
  {
   "cell_type": "code",
   "execution_count": 6,
   "id": "9418fd94",
   "metadata": {
    "tags": []
   },
   "outputs": [
    {
     "name": "stdout",
     "output_type": "stream",
     "text": [
      "\u001b[94m>> Start renewing asset : /home/jovyan/ic/alo/assets/train\u001b[0m\n",
      "\u001b[92m/home/jovyan/ic/alo/assets/train successfully pulled.\u001b[0m\n",
      "\n",
      "\n",
      "\n",
      "\u001b[94m============================= ASSET INFO =============================\u001b[0m\n",
      "\u001b[94mPIPELINES    : train_pipeline\u001b[0m\n",
      "\u001b[94mASSETS       : train\u001b[0m\n",
      "\u001b[94m=======================================================================\u001b[0m\n",
      "\n",
      "\n",
      "\n",
      "************************************************************\n",
      "************************************************************\n",
      "\u001b[94mGot model path for saving or loading: \n",
      " /home/jovyan/ic/alo/.train_artifacts/models/train/\u001b[0m\n"
     ]
    },
    {
     "name": "stderr",
     "output_type": "stream",
     "text": [
      "2023-10-25 10:27:53.451659: W tensorflow/stream_executor/platform/default/dso_loader.cc:64] Could not load dynamic library 'libcuda.so.1'; dlerror: libcuda.so.1: cannot open shared object file: No such file or directory; LD_LIBRARY_PATH: /home/jovyan/conda/envs/alov22/lib/python3.10/site-packages/cv2/../../lib64:/home/jovyan/conda/envs/py39_gpu/lib/:/home/jovyan/conda/lib/:/home/jovyan/conda/envs/aic_gpu/lib/:/usr/local/cuda/lib64:/usr/local/cuda/extras/CUPTI/lib64:/usr/local/nvidia/lib:/usr/local/nvidia/lib64\n",
      "2023-10-25 10:27:53.451720: W tensorflow/stream_executor/cuda/cuda_driver.cc:269] failed call to cuInit: UNKNOWN ERROR (303)\n",
      "2023-10-25 10:27:53.451761: I tensorflow/stream_executor/cuda/cuda_diagnostics.cc:156] kernel driver does not appear to be running on this host (jupyter-yoonji-2esuh): /proc/driver/nvidia/version does not exist\n"
     ]
    },
    {
     "name": "stdout",
     "output_type": "stream",
     "text": [
      "\n",
      "\n",
      "\n",
      "\u001b[91m============================= ASSET ERROR =============================\u001b[0m\n",
      "\u001b[91mTIME(UTC)    : 2023-10-25 10:27:53 (KST : 2023-10-25 19:27:54)\u001b[0m\n",
      "\u001b[91mERROR(msg)   : Asset.get_output_path() missing 1 required positional argument: 'pipeline_mode'\u001b[0m\n",
      "\u001b[91m=======================================================================\u001b[0m\n",
      "\n",
      "\n",
      "\n"
     ]
    },
    {
     "ename": "ValueError",
     "evalue": "Asset.get_output_path() missing 1 required positional argument: 'pipeline_mode'",
     "output_type": "error",
     "traceback": [
      "\u001b[0;31m---------------------------------------------------------------------------\u001b[0m",
      "\u001b[0;31mTypeError\u001b[0m                                 Traceback (most recent call last)",
      "File \u001b[0;32m~/conda/envs/alov22/lib/python3.10/site-packages/alolib/asset.py:903\u001b[0m, in \u001b[0;36mAsset.decorator_run.<locals>._run\u001b[0;34m(self, *args, **kwargs)\u001b[0m\n\u001b[1;32m    900\u001b[0m \u001b[38;5;28;01mtry\u001b[39;00m:\n\u001b[1;32m    901\u001b[0m     \u001b[38;5;66;03m#METADATA\u001b[39;00m\n\u001b[1;32m    902\u001b[0m     \u001b[38;5;66;03m# self.metadata._set_execution('RUNNING')\u001b[39;00m\n\u001b[0;32m--> 903\u001b[0m     \u001b[38;5;28mself\u001b[39m\u001b[38;5;241m.\u001b[39moutput, config \u001b[38;5;241m=\u001b[39m \u001b[43mfunc\u001b[49m\u001b[43m(\u001b[49m\u001b[38;5;28;43mself\u001b[39;49m\u001b[43m,\u001b[49m\u001b[43m \u001b[49m\u001b[38;5;241;43m*\u001b[39;49m\u001b[43margs\u001b[49m\u001b[43m,\u001b[49m\u001b[43m \u001b[49m\u001b[38;5;241;43m*\u001b[39;49m\u001b[38;5;241;43m*\u001b[39;49m\u001b[43mkwargs\u001b[49m\u001b[43m)\u001b[49m\n\u001b[1;32m    904\u001b[0m     \u001b[38;5;66;03m#METADATA\u001b[39;00m\n\u001b[1;32m    905\u001b[0m     \u001b[38;5;66;03m# self.metadata._set_execution('COMPLETED')\u001b[39;00m\n\u001b[1;32m    906\u001b[0m     \u001b[38;5;66;03m# self._set_context_system()\u001b[39;00m\n",
      "File \u001b[0;32m~/ic/alo/assets/train/asset_train.py:67\u001b[0m, in \u001b[0;36mUserAsset.run\u001b[0;34m(self)\u001b[0m\n\u001b[1;32m     66\u001b[0m \u001b[38;5;66;03m# get parameters\u001b[39;00m\n\u001b[0;32m---> 67\u001b[0m \u001b[38;5;28;43mself\u001b[39;49m\u001b[38;5;241;43m.\u001b[39;49m\u001b[43mget_parameters\u001b[49m\u001b[43m(\u001b[49m\u001b[43m)\u001b[49m\n\u001b[1;32m     69\u001b[0m \u001b[38;5;66;03m# set parameters in algorithm\u001b[39;00m\n",
      "File \u001b[0;32m~/ic/alo/assets/train/asset_train.py:53\u001b[0m, in \u001b[0;36mUserAsset.get_parameters\u001b[0;34m(self)\u001b[0m\n\u001b[1;32m     52\u001b[0m \u001b[38;5;28mself\u001b[39m\u001b[38;5;241m.\u001b[39mtrain_model_path \u001b[38;5;241m=\u001b[39m \u001b[38;5;28mself\u001b[39m\u001b[38;5;241m.\u001b[39masset\u001b[38;5;241m.\u001b[39mget_model_path() \n\u001b[0;32m---> 53\u001b[0m \u001b[38;5;28mself\u001b[39m\u001b[38;5;241m.\u001b[39mtrain_output_path \u001b[38;5;241m=\u001b[39m \u001b[38;5;28;43mself\u001b[39;49m\u001b[38;5;241;43m.\u001b[39;49m\u001b[43masset\u001b[49m\u001b[38;5;241;43m.\u001b[39;49m\u001b[43mget_output_path\u001b[49m\u001b[43m(\u001b[49m\u001b[43m)\u001b[49m \n\u001b[1;32m     55\u001b[0m \u001b[38;5;28mself\u001b[39m\u001b[38;5;241m.\u001b[39margs[\u001b[38;5;124m'\u001b[39m\u001b[38;5;124mmodel_path\u001b[39m\u001b[38;5;124m'\u001b[39m] \u001b[38;5;241m=\u001b[39m \u001b[38;5;28mself\u001b[39m\u001b[38;5;241m.\u001b[39mtrain_model_path\n",
      "\u001b[0;31mTypeError\u001b[0m: Asset.get_output_path() missing 1 required positional argument: 'pipeline_mode'",
      "\nDuring handling of the above exception, another exception occurred:\n",
      "\u001b[0;31mValueError\u001b[0m                                Traceback (most recent call last)",
      "Cell \u001b[0;32mIn[6], line 1\u001b[0m\n\u001b[0;32m----> 1\u001b[0m data_ic, config_ic \u001b[38;5;241m=\u001b[39m \u001b[43mJS\u001b[49m\u001b[38;5;241;43m.\u001b[39;49m\u001b[43mrun\u001b[49m\u001b[43m(\u001b[49m\u001b[43mstep\u001b[49m\u001b[43m,\u001b[49m\u001b[43m \u001b[49m\u001b[43mic_args\u001b[49m\u001b[43m,\u001b[49m\u001b[43m \u001b[49m\u001b[43mtrain_pipelines\u001b[49m\u001b[43m,\u001b[49m\u001b[43m \u001b[49m\u001b[43mdata_input\u001b[49m\u001b[43m,\u001b[49m\u001b[43m \u001b[49m\u001b[43mconfig_input\u001b[49m\u001b[43m)\u001b[49m \n\u001b[1;32m      2\u001b[0m \u001b[38;5;66;03m# data_ic: IC asset의 결과물입니다. \u001b[39;00m\n\u001b[1;32m      3\u001b[0m \u001b[38;5;66;03m# config_ic: IC asset의 결과 config입니다. \u001b[39;00m\n\u001b[1;32m      4\u001b[0m \n\u001b[1;32m      5\u001b[0m \u001b[38;5;66;03m# ic asset의 결과 dataframe은 data_ic['dataframe']으로 확인할 수 있습니다. \u001b[39;00m\n\u001b[1;32m      6\u001b[0m data_ic[\u001b[38;5;124m'\u001b[39m\u001b[38;5;124mdataframe\u001b[39m\u001b[38;5;124m'\u001b[39m]\u001b[38;5;241m.\u001b[39mhead(\u001b[38;5;241m10\u001b[39m) \n",
      "File \u001b[0;32m~/ic/jupyter_supporter.py:111\u001b[0m, in \u001b[0;36mJsupport.run\u001b[0;34m(self, step, args, pipelines, data, pipe_val)\u001b[0m\n\u001b[1;32m    108\u001b[0m envs[\u001b[38;5;124m'\u001b[39m\u001b[38;5;124martifacts\u001b[39m\u001b[38;5;124m'\u001b[39m] \u001b[38;5;241m=\u001b[39m \u001b[38;5;28mself\u001b[39m\u001b[38;5;241m.\u001b[39martifacts\n\u001b[1;32m    110\u001b[0m ua \u001b[38;5;241m=\u001b[39m user_asset(envs, args, data, pipe_val)\n\u001b[0;32m--> 111\u001b[0m data, pipe_val \u001b[38;5;241m=\u001b[39m \u001b[43mua\u001b[49m\u001b[38;5;241;43m.\u001b[39;49m\u001b[43mrun\u001b[49m\u001b[43m(\u001b[49m\u001b[43m)\u001b[49m\n\u001b[1;32m    113\u001b[0m \u001b[38;5;66;03m# self.asset.save_file(data)\u001b[39;00m\n\u001b[1;32m    115\u001b[0m sys\u001b[38;5;241m.\u001b[39mpath \u001b[38;5;241m=\u001b[39m [item \u001b[38;5;28;01mfor\u001b[39;00m item \u001b[38;5;129;01min\u001b[39;00m sys\u001b[38;5;241m.\u001b[39mpath \u001b[38;5;28;01mif\u001b[39;00m envs[\u001b[38;5;124m'\u001b[39m\u001b[38;5;124mstep\u001b[39m\u001b[38;5;124m'\u001b[39m] \u001b[38;5;129;01mnot\u001b[39;00m \u001b[38;5;129;01min\u001b[39;00m item]\n",
      "File \u001b[0;32m~/conda/envs/alov22/lib/python3.10/site-packages/alolib/asset.py:909\u001b[0m, in \u001b[0;36mAsset.decorator_run.<locals>._run\u001b[0;34m(self, *args, **kwargs)\u001b[0m\n\u001b[1;32m    904\u001b[0m     \u001b[38;5;66;03m#METADATA\u001b[39;00m\n\u001b[1;32m    905\u001b[0m     \u001b[38;5;66;03m# self.metadata._set_execution('COMPLETED')\u001b[39;00m\n\u001b[1;32m    906\u001b[0m     \u001b[38;5;66;03m# self._set_context_system()\u001b[39;00m\n\u001b[1;32m    907\u001b[0m \u001b[38;5;28;01mexcept\u001b[39;00m \u001b[38;5;167;01mException\u001b[39;00m \u001b[38;5;28;01mas\u001b[39;00m e:\n\u001b[1;32m    908\u001b[0m     \u001b[38;5;66;03m# self._set_context_system()\u001b[39;00m\n\u001b[0;32m--> 909\u001b[0m     \u001b[38;5;28;43mself\u001b[39;49m\u001b[38;5;241;43m.\u001b[39;49m\u001b[43m_asset_error\u001b[49m\u001b[43m(\u001b[49m\u001b[38;5;28;43mstr\u001b[39;49m\u001b[43m(\u001b[49m\u001b[43me\u001b[49m\u001b[43m)\u001b[49m\u001b[43m)\u001b[49m\n\u001b[1;32m    910\u001b[0m     \u001b[38;5;66;03m# print(str(e))\u001b[39;00m\n\u001b[1;32m    911\u001b[0m \u001b[38;5;28;01mreturn\u001b[39;00m \u001b[38;5;28mself\u001b[39m\u001b[38;5;241m.\u001b[39moutput, config\n",
      "File \u001b[0;32m~/conda/envs/alov22/lib/python3.10/site-packages/alolib/asset.py:1380\u001b[0m, in \u001b[0;36mAsset._asset_error\u001b[0;34m(self, msg)\u001b[0m\n\u001b[1;32m   1372\u001b[0m \u001b[38;5;28mprint\u001b[39m(\u001b[38;5;124m'\u001b[39m\u001b[38;5;130;01m\\n\u001b[39;00m\u001b[38;5;130;01m\\n\u001b[39;00m\u001b[38;5;124m'\u001b[39m)\n\u001b[1;32m   1374\u001b[0m \u001b[38;5;66;03m# save log at metadata\u001b[39;00m\n\u001b[1;32m   1375\u001b[0m \u001b[38;5;66;03m# self.metadata._set_log(msg, self.context['metadata_table_version']['log'], 'error')\u001b[39;00m\n\u001b[1;32m   1376\u001b[0m \n\u001b[1;32m   1377\u001b[0m \u001b[38;5;66;03m# update execution(ERROR)\u001b[39;00m\n\u001b[1;32m   1378\u001b[0m \u001b[38;5;66;03m# self.metadata._set_execution('ERROR')\u001b[39;00m\n\u001b[0;32m-> 1380\u001b[0m \u001b[38;5;28;01mraise\u001b[39;00m \u001b[38;5;167;01mValueError\u001b[39;00m(msg)\n",
      "\u001b[0;31mValueError\u001b[0m: Asset.get_output_path() missing 1 required positional argument: 'pipeline_mode'"
     ]
    }
   ],
   "source": [
    "data_ic, config_ic = JS.run(step, ic_args, train_pipelines, data_input, config_input) \n",
    "# data_ic: IC asset의 결과물입니다. \n",
    "# config_ic: IC asset의 결과 config입니다. \n",
    "\n",
    "# ic asset의 결과 dataframe은 data_ic['dataframe']으로 확인할 수 있습니다. \n",
    "data_ic['dataframe'].head(10) "
   ]
  },
  {
   "cell_type": "markdown",
   "id": "f681c8a8-ffde-4f59-a694-1b3849b90dd4",
   "metadata": {
    "tags": []
   },
   "source": [
    "<br>\n",
    "\n",
    "## Inference workflow \n",
    "### 1. Input asset \n",
    "##### Input asset의 arguments 수정 및 확인\n",
    "- 필요한경우 input_args의 항목을 ***input_args[argument명]=value입력*** 을 통해 변경할 수 있습니다.  "
   ]
  },
  {
   "cell_type": "code",
   "execution_count": null,
   "id": "e2f43e8e-5a9a-4cbc-b2b5-f548d92b3feb",
   "metadata": {
    "tags": []
   },
   "outputs": [],
   "source": [
    "inf_pipelines = 'inference_pipeline'\n",
    "# IC inference asset 순서에 따라 step 순서를 입력합니다. (input(0) - inference(1))\n",
    "step = 0 \n",
    "input_args = JS.get_arguments(inf_pipelines,step)\n",
    "\n",
    "# 아래 주석을 풀어 input_args를 원하는 값으로 수정합니다. \n",
    "# input_args['path_column'] = ['path']\n",
    "input_args"
   ]
  },
  {
   "cell_type": "markdown",
   "id": "f705ac75-11a8-4093-9531-3b09de8fc38e",
   "metadata": {},
   "source": [
    "##### Input asset 실행 "
   ]
  },
  {
   "cell_type": "code",
   "execution_count": null,
   "id": "026f2355-99c7-437f-8274-dbed7aa968d8",
   "metadata": {
    "tags": []
   },
   "outputs": [],
   "source": [
    "data = pipe_val = 0 # 초기 input asset process 세팅\n",
    "data_input, config_input = JS.run(step, input_args, inf_pipelines, data, pipe_val) \n",
    "# data_input: input asset의 결과물입니다. 다음 asset 실행 시 필요합니다. \n",
    "# config_input: input asset의 config입니다. 다음 asset실행 시 필요합니다. \n",
    "\n",
    "# input asset의 결과 dataframe은 data_input['dataframe']으로 확인할 수 있습니다. \n",
    "data_input['dataframe'].head(10) "
   ]
  },
  {
   "cell_type": "markdown",
   "id": "6a66a6da-7efd-4c9f-92b4-b91366365db7",
   "metadata": {},
   "source": [
    "<br>\n",
    "\n",
    "### 3. inference asset \n",
    "##### inference asset의 args수정 및 확인\n",
    "- 필요한경우 IC_args의 항목을 ***IC_args[argument명]=value입력*** 을 통해 변경할 수 있습니다.  "
   ]
  },
  {
   "cell_type": "code",
   "execution_count": null,
   "id": "13b21092-9b65-4de1-874e-46e8cbd96075",
   "metadata": {
    "tags": []
   },
   "outputs": [],
   "source": [
    "# IC inference asset 순서에 따라 step 순서를 입력합니다. (input(0) - inference(1))\n",
    "step = 1\n",
    "ic_args = JS.get_arguments(inf_pipelines,step)\n",
    "\n",
    "# 아래 주석을 풀어 ic_args를 수정합니다. \n",
    "# ic_args['model_list'] = ['lgb','rf']\n",
    "ic_args"
   ]
  },
  {
   "cell_type": "markdown",
   "id": "e5544d75-1e2f-4009-9e24-7cb91bc18ced",
   "metadata": {},
   "source": [
    "##### inference asset 실행 "
   ]
  },
  {
   "cell_type": "code",
   "execution_count": null,
   "id": "cf9857de-2615-41ec-829f-cddb0808aab2",
   "metadata": {
    "tags": []
   },
   "outputs": [],
   "source": [
    "data_ic, config_ic = JS.run(step, ic_args, inf_pipelines, data_input, config_input) \n",
    "# data_ic: inference asset의 결과물입니다. \n",
    "# config_ic: inference asset의 결과 config입니다. \n",
    "\n",
    "# inference asset의 결과 dataframe은 data_ic['dataframe']으로 확인할 수 있습니다. \n",
    "data_ic['dataframe'].head(10) "
   ]
  },
  {
   "cell_type": "code",
   "execution_count": null,
   "id": "3e66f4eb",
   "metadata": {},
   "outputs": [],
   "source": []
  }
 ],
 "metadata": {
  "kernelspec": {
   "display_name": "alov22",
   "language": "python",
   "name": "alov22"
  },
  "language_info": {
   "codemirror_mode": {
    "name": "ipython",
    "version": 3
   },
   "file_extension": ".py",
   "mimetype": "text/x-python",
   "name": "python",
   "nbconvert_exporter": "python",
   "pygments_lexer": "ipython3",
   "version": "3.10.12"
  }
 },
 "nbformat": 4,
 "nbformat_minor": 5
}
