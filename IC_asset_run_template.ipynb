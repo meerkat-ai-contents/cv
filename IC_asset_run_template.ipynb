{
 "cells": [
  {
   "cell_type": "markdown",
   "id": "362b6b5c-8668-46b6-b5d8-00888c5580fa",
   "metadata": {},
   "source": [
    "아래는 ALO 기본 설정 및 라이브러리 설치 코드입니다. library 설치 에러가 발생하면 아래 셀을 재실행 하고, 지속적으로 문제가 있을 시 문의바랍니다"
   ]
  },
  {
   "cell_type": "code",
   "execution_count": 1,
   "id": "6991397c",
   "metadata": {},
   "outputs": [
    {
     "name": "stdout",
     "output_type": "stream",
     "text": [
      "\u001b[94m======================================== Start dependency installation : << master >> \u001b[0m\n",
      "\u001b[93m>> Start checking existence & installing package - alolib@git+http://mod.lge.com/hub/dxadvtech/aicontents-framework/alolib-source.git@release-1.1 | Progress: ( 1 / 1 total packages )\u001b[0m\n",
      "\u001b[92m- << alolib@git+http://mod.lge.com/hub/dxadvtech/aicontents-framework/alolib-source.git@release-1.1 >> already exists\u001b[0m\n",
      "\u001b[94m======================================== Start dependency installation : << force-reinstall >> \u001b[0m\n",
      "\u001b[94m======================================== Finish dependency installation \n",
      "\u001b[0m\n",
      "STTIME does not exist. instead get current time\n",
      "\u001b[92m>> << /home/jovyan/ic/alo/assets/ >> directory already exists.\u001b[0m\n",
      "\u001b[94m>> Start removing pre-existing input data before fetching external data: train\u001b[0m\n",
      "\u001b[94m>> Start loading external << /nas001/users/ruci.sung/mnist/train/ >> data into << input >> directory.\u001b[0m\n",
      "\u001b[92m>> s3 private key file << load_s3_key_path >> loaded successfully.\u001b[0m\n",
      "\u001b[94m>> [@ train_pipeline] Start fetching external data from << /nas001/users/ruci.sung/mnist/train/ >> into << input >> directory.\u001b[0m\n",
      "\u001b[94m>> Start setting-up << input >> asset @ << assets >> directory.\u001b[0m\n",
      "\u001b[93m[NOTICE] << input >> asset had already been created at 2023-10-25 10:27:36.619924\u001b[0m\n",
      "\u001b[94m>> Start setting-up << train >> asset @ << assets >> directory.\u001b[0m\n",
      "\u001b[93m[NOTICE] << train >> asset had already been created at 2023-10-25 10:27:43.410967\u001b[0m\n",
      "\u001b[94m======================================== Start dependency installation : << input >> \u001b[0m\n",
      "\u001b[93m>> Start checking existence & installing package - pillow | Progress: ( 1 / 7 total packages )\u001b[0m\n",
      "\u001b[92m- << pillow >> already exists\u001b[0m\n",
      "\u001b[93m>> Start checking existence & installing package - pandas==1.5.3 | Progress: ( 2 / 7 total packages )\u001b[0m\n",
      "\u001b[92m- << pandas==1.5.3 >> already exists\u001b[0m\n",
      "\u001b[94m======================================== Start dependency installation : << train >> \u001b[0m\n",
      "\u001b[93m>> Start checking existence & installing package - opencv-python | Progress: ( 3 / 7 total packages )\u001b[0m\n",
      "\u001b[92m- << opencv-python >> already exists\u001b[0m\n",
      "\u001b[93m>> Start checking existence & installing package - tensorflow==2.9.0 | Progress: ( 4 / 7 total packages )\u001b[0m\n",
      "\u001b[92m- << tensorflow==2.9.0 >> already exists\u001b[0m\n",
      "\u001b[93m>> Start checking existence & installing package - scikit-optimize | Progress: ( 5 / 7 total packages )\u001b[0m\n",
      "\u001b[92m- << scikit-optimize >> already exists\u001b[0m\n",
      "\u001b[93m>> Start checking existence & installing package - focal-loss | Progress: ( 6 / 7 total packages )\u001b[0m\n",
      "\u001b[92m- << focal-loss >> already exists\u001b[0m\n",
      "\u001b[93m>> Start checking existence & installing package - keras_applications==1.0.8 | Progress: ( 7 / 7 total packages )\u001b[0m\n",
      "\u001b[92m- << keras_applications==1.0.8 >> already exists\u001b[0m\n",
      "\u001b[94m======================================== Start dependency installation : << force-reinstall >> \u001b[0m\n",
      "\u001b[94m======================================== Finish dependency installation \n",
      "\u001b[0m\n"
     ]
    }
   ],
   "source": [
    "import argparse\n",
    "import time\n",
    "import os\n",
    "\n",
    "\n",
    "original_directory = os.getcwd()\n",
    "\n",
    "# os.chdir(os.path.abspath(os.path.join('..')))\n",
    "os.chdir(\"./alo\")\n",
    "from src.alo import ALO\n",
    "\n",
    "alo = ALO()\n",
    "\n",
    "alo.preset()\n",
    "\n",
    "pipelines = list(alo.asset_source.keys())\n",
    "\n",
    "from src.external import external_load_data, external_save_artifacts\n",
    "\n",
    "pipeline = pipelines[0]\n",
    "\n",
    "external_load_data(pipeline, alo.external_path, alo.external_path_permission)\n",
    "\n",
    "alo.install_steps(pipeline, alo.control[\"get_asset_source\"])\n",
    "asset_config = alo.asset_source[pipeline]"
   ]
  },
  {
   "cell_type": "code",
   "execution_count": 2,
   "id": "0f3eb838",
   "metadata": {},
   "outputs": [],
   "source": [
    "import pandas as pd\n",
    "\n",
    "def make_ground_truth(path,save_path,data_type='png'):\n",
    "\n",
    "    path_list = []\n",
    "    col_names = ['label','image_path']\n",
    "    \n",
    "    data_type_dict = {}\n",
    "    data_type_dict['png'] = ['png']\n",
    "    data_type_dict['jpg'] = ['jpg']\n",
    "    data_type_dict['both'] =  ['png','jpg']\n",
    "    \n",
    "    \n",
    "    WALK = os.walk(path)\n",
    "    i = 0\n",
    "    for (Root,Dir,fles) in WALK:\n",
    "        for fle in fles:\n",
    "            if fle.split('.')[-1] in data_type_dict[data_type]:\n",
    "                path_list.append([Root.split('/')[-1] , os.path.join(Root,fle)])\n",
    "                if i<5:\n",
    "                    print(path_list[-1])\n",
    "                    i += 1\n",
    "            \n",
    "    df = pd.DataFrame(path_list,columns = col_names)\n",
    "    df.to_csv(save_path,index=False)\n",
    "    \n",
    "    return path_list,df\n"
   ]
  },
  {
   "cell_type": "markdown",
   "id": "a2fb8e31",
   "metadata": {},
   "source": [
    "## Ground truth data 만들기 샘플 코드"
   ]
  },
  {
   "cell_type": "code",
   "execution_count": 3,
   "id": "062e4cd5",
   "metadata": {},
   "outputs": [
    {
     "name": "stdout",
     "output_type": "stream",
     "text": [
      "['5', '/nas001/users/yoonji.suh/sample_data/mnist_png/mnist_png/train/5/100.png']\n",
      "['5', '/nas001/users/yoonji.suh/sample_data/mnist_png/mnist_png/train/5/42085.png']\n",
      "['5', '/nas001/users/yoonji.suh/sample_data/mnist_png/mnist_png/train/5/4119.png']\n",
      "['5', '/nas001/users/yoonji.suh/sample_data/mnist_png/mnist_png/train/5/7260.png']\n",
      "['5', '/nas001/users/yoonji.suh/sample_data/mnist_png/mnist_png/train/5/52231.png']\n",
      "complete\n"
     ]
    },
    {
     "data": {
      "text/html": [
       "<div>\n",
       "<style scoped>\n",
       "    .dataframe tbody tr th:only-of-type {\n",
       "        vertical-align: middle;\n",
       "    }\n",
       "\n",
       "    .dataframe tbody tr th {\n",
       "        vertical-align: top;\n",
       "    }\n",
       "\n",
       "    .dataframe thead th {\n",
       "        text-align: right;\n",
       "    }\n",
       "</style>\n",
       "<table border=\"1\" class=\"dataframe\">\n",
       "  <thead>\n",
       "    <tr style=\"text-align: right;\">\n",
       "      <th></th>\n",
       "      <th>label</th>\n",
       "      <th>image_path</th>\n",
       "    </tr>\n",
       "  </thead>\n",
       "  <tbody>\n",
       "    <tr>\n",
       "      <th>0</th>\n",
       "      <td>5</td>\n",
       "      <td>/nas001/users/yoonji.suh/sample_data/mnist_png...</td>\n",
       "    </tr>\n",
       "    <tr>\n",
       "      <th>1</th>\n",
       "      <td>5</td>\n",
       "      <td>/nas001/users/yoonji.suh/sample_data/mnist_png...</td>\n",
       "    </tr>\n",
       "    <tr>\n",
       "      <th>2</th>\n",
       "      <td>5</td>\n",
       "      <td>/nas001/users/yoonji.suh/sample_data/mnist_png...</td>\n",
       "    </tr>\n",
       "    <tr>\n",
       "      <th>3</th>\n",
       "      <td>5</td>\n",
       "      <td>/nas001/users/yoonji.suh/sample_data/mnist_png...</td>\n",
       "    </tr>\n",
       "    <tr>\n",
       "      <th>4</th>\n",
       "      <td>5</td>\n",
       "      <td>/nas001/users/yoonji.suh/sample_data/mnist_png...</td>\n",
       "    </tr>\n",
       "  </tbody>\n",
       "</table>\n",
       "</div>"
      ],
      "text/plain": [
       "  label                                         image_path\n",
       "0     5  /nas001/users/yoonji.suh/sample_data/mnist_png...\n",
       "1     5  /nas001/users/yoonji.suh/sample_data/mnist_png...\n",
       "2     5  /nas001/users/yoonji.suh/sample_data/mnist_png...\n",
       "3     5  /nas001/users/yoonji.suh/sample_data/mnist_png...\n",
       "4     5  /nas001/users/yoonji.suh/sample_data/mnist_png..."
      ]
     },
     "execution_count": 3,
     "metadata": {},
     "output_type": "execute_result"
    }
   ],
   "source": [
    "# train 혹은 test 데이터 각각에 대해 ground truth 파일을 각각 만들어야 합니다.\n",
    "\n",
    "# train 혹은 test 데이터가 있는 폴더명을 입력합니다.\n",
    "dataDir = '/nas001/users/yoonji.suh/sample_data/mnist_png/mnist_png/train/'\n",
    "# ground truth 파일이 저장될 경로를 확장자 까지 입력합니다.\n",
    "saveDir = '/home/jovyan/testCsv.csv'\n",
    "\n",
    "lst,df = make_ground_truth(dataDir,saveDir)\n",
    "print('complete')\n",
    "df.head()"
   ]
  },
  {
   "cell_type": "markdown",
   "id": "9b9f36d6-84e0-440e-80d3-b462254b006a",
   "metadata": {
    "tags": []
   },
   "source": [
    "## Train workflow \n",
    "### 1. Input asset \n",
    "##### Input asset의 arguments 수정 및 확인\n",
    "- 필요한경우 input_args의 항목을 ***input_args[argument명]=value입력*** 을 통해 변경할 수 있습니다.  "
   ]
  },
  {
   "cell_type": "code",
   "execution_count": 4,
   "id": "8093bfc0",
   "metadata": {},
   "outputs": [
    {
     "data": {
      "text/plain": [
       "{'step': 'input',\n",
       " 'args': [{'input_path': 'train/',\n",
       "   'y_column': 'label',\n",
       "   'path_column': 'image_path',\n",
       "   'data_source_type': 'batch',\n",
       "   'label_names': [0, 1, 2, 3, 4, 5, 6, 7, 8, 9],\n",
       "   'prediction_column_prefix': 'pred',\n",
       "   'probability_column_prefix': 'prob',\n",
       "   'set_images': True}]}"
      ]
     },
     "execution_count": 4,
     "metadata": {},
     "output_type": "execute_result"
    }
   ],
   "source": [
    "# IC train asset 순서에 따라 step 순서를 입력합니다. (input(0) - train(1))\n",
    "step = 0\n",
    "input_args = alo.user_parameters[pipeline][step]\n",
    "\n",
    "# 아래 주석을 풀어 input_args를 원하는 값으로 수정합니다. \n",
    "# input_args['path_column'] = ['path']\n",
    "input_args"
   ]
  },
  {
   "cell_type": "markdown",
   "id": "017bbb5c-b15e-4b8b-98c9-9b355da55263",
   "metadata": {},
   "source": [
    "##### Input asset 실행 "
   ]
  },
  {
   "cell_type": "code",
   "execution_count": 5,
   "id": "d5c23a29",
   "metadata": {},
   "outputs": [
    {
     "name": "stdout",
     "output_type": "stream",
     "text": [
      "************************************************************\n",
      "************************************************************\n",
      ">>>>> Load path : ['/home/jovyan/ic/alo//input/train//']\n",
      "/home/jovyan/ic/alo//.asset_interface/train_pipeline/ 폴더와 하위 디렉토리가 삭제되었습니다.\n",
      "/home/jovyan/ic/alo//.asset_interface/train_pipeline/ 폴더가 생성되었습니다.\n"
     ]
    },
    {
     "name": "stderr",
     "output_type": "stream",
     "text": [
      "/home/jovyan/ic/alo/assets/input/data_input.py:265: SettingWithCopyWarning: \n",
      "A value is trying to be set on a copy of a slice from a DataFrame.\n",
      "Try using .loc[row_indexer,col_indexer] = value instead\n",
      "\n",
      "See the caveats in the documentation: https://pandas.pydata.org/pandas-docs/stable/user_guide/indexing.html#returning-a-view-versus-a-copy\n",
      "  data['new_image_path'] = data.apply(save_image_as_npy, axis=1)\n",
      "/home/jovyan/ic/alo/assets/input/data_input.py:268: SettingWithCopyWarning: \n",
      "A value is trying to be set on a copy of a slice from a DataFrame.\n",
      "Try using .loc[row_indexer,col_indexer] = value instead\n",
      "\n",
      "See the caveats in the documentation: https://pandas.pydata.org/pandas-docs/stable/user_guide/indexing.html#returning-a-view-versus-a-copy\n",
      "  data[self.path_column] = data['new_image_path']\n",
      "/home/jovyan/ic/alo/assets/input/data_input.py:271: SettingWithCopyWarning: \n",
      "A value is trying to be set on a copy of a slice from a DataFrame\n",
      "\n",
      "See the caveats in the documentation: https://pandas.pydata.org/pandas-docs/stable/user_guide/indexing.html#returning-a-view-versus-a-copy\n",
      "  data.drop(columns=['new_image_path'], inplace=True)\n"
     ]
    },
    {
     "data": {
      "text/html": [
       "<div>\n",
       "<style scoped>\n",
       "    .dataframe tbody tr th:only-of-type {\n",
       "        vertical-align: middle;\n",
       "    }\n",
       "\n",
       "    .dataframe tbody tr th {\n",
       "        vertical-align: top;\n",
       "    }\n",
       "\n",
       "    .dataframe thead th {\n",
       "        text-align: right;\n",
       "    }\n",
       "</style>\n",
       "<table border=\"1\" class=\"dataframe\">\n",
       "  <thead>\n",
       "    <tr style=\"text-align: right;\">\n",
       "      <th></th>\n",
       "      <th>image_path</th>\n",
       "      <th>label</th>\n",
       "    </tr>\n",
       "  </thead>\n",
       "  <tbody>\n",
       "    <tr>\n",
       "      <th>0</th>\n",
       "      <td>/home/jovyan/ic/alo//.asset_interface/train_pi...</td>\n",
       "      <td>7</td>\n",
       "    </tr>\n",
       "    <tr>\n",
       "      <th>1</th>\n",
       "      <td>/home/jovyan/ic/alo//.asset_interface/train_pi...</td>\n",
       "      <td>7</td>\n",
       "    </tr>\n",
       "    <tr>\n",
       "      <th>2</th>\n",
       "      <td>/home/jovyan/ic/alo//.asset_interface/train_pi...</td>\n",
       "      <td>7</td>\n",
       "    </tr>\n",
       "    <tr>\n",
       "      <th>3</th>\n",
       "      <td>/home/jovyan/ic/alo//.asset_interface/train_pi...</td>\n",
       "      <td>8</td>\n",
       "    </tr>\n",
       "    <tr>\n",
       "      <th>4</th>\n",
       "      <td>/home/jovyan/ic/alo//.asset_interface/train_pi...</td>\n",
       "      <td>4</td>\n",
       "    </tr>\n",
       "    <tr>\n",
       "      <th>5</th>\n",
       "      <td>/home/jovyan/ic/alo//.asset_interface/train_pi...</td>\n",
       "      <td>3</td>\n",
       "    </tr>\n",
       "    <tr>\n",
       "      <th>6</th>\n",
       "      <td>/home/jovyan/ic/alo//.asset_interface/train_pi...</td>\n",
       "      <td>3</td>\n",
       "    </tr>\n",
       "    <tr>\n",
       "      <th>7</th>\n",
       "      <td>/home/jovyan/ic/alo//.asset_interface/train_pi...</td>\n",
       "      <td>1</td>\n",
       "    </tr>\n",
       "    <tr>\n",
       "      <th>8</th>\n",
       "      <td>/home/jovyan/ic/alo//.asset_interface/train_pi...</td>\n",
       "      <td>6</td>\n",
       "    </tr>\n",
       "    <tr>\n",
       "      <th>9</th>\n",
       "      <td>/home/jovyan/ic/alo//.asset_interface/train_pi...</td>\n",
       "      <td>1</td>\n",
       "    </tr>\n",
       "  </tbody>\n",
       "</table>\n",
       "</div>"
      ],
      "text/plain": [
       "                                          image_path  label\n",
       "0  /home/jovyan/ic/alo//.asset_interface/train_pi...      7\n",
       "1  /home/jovyan/ic/alo//.asset_interface/train_pi...      7\n",
       "2  /home/jovyan/ic/alo//.asset_interface/train_pi...      7\n",
       "3  /home/jovyan/ic/alo//.asset_interface/train_pi...      8\n",
       "4  /home/jovyan/ic/alo//.asset_interface/train_pi...      4\n",
       "5  /home/jovyan/ic/alo//.asset_interface/train_pi...      3\n",
       "6  /home/jovyan/ic/alo//.asset_interface/train_pi...      3\n",
       "7  /home/jovyan/ic/alo//.asset_interface/train_pi...      1\n",
       "8  /home/jovyan/ic/alo//.asset_interface/train_pi...      6\n",
       "9  /home/jovyan/ic/alo//.asset_interface/train_pi...      1"
      ]
     },
     "execution_count": 5,
     "metadata": {},
     "output_type": "execute_result"
    }
   ],
   "source": [
    "data = pipe_val = {} # 초기 input asset process 세팅\n",
    "\n",
    "data_input, config_input = alo.process_asset_step(asset_config[step], step, pipeline)\n",
    "# data_input: input asset의 결과물입니다. 다음 asset 실행 시 필요합니다. \n",
    "# config_input: input asset의 결과 config입니다. 다음 asset실행 시 필요합니다.\n",
    "\n",
    "# input asset의 결과 dataframe은 data_input['dataframe']으로 확인할 수 있습니다. \n",
    "data_input['dataframe'].head(10) "
   ]
  },
  {
   "cell_type": "markdown",
   "id": "c3b6a3a7-2204-42b5-8cc8-a5b5f740f457",
   "metadata": {},
   "source": [
    "</br>\n",
    "\n",
    "### 2. train asset \n",
    "##### train asset의 args수정 및 확인\n",
    "- 필요한경우 IC_args의 항목을 ***IC_args[argument명]=value입력*** 을 통해 변경할 수 있습니다.  "
   ]
  },
  {
   "cell_type": "code",
   "execution_count": 6,
   "id": "e9ee91cc",
   "metadata": {},
   "outputs": [
    {
     "data": {
      "text/plain": [
       "{'step': 'train',\n",
       " 'args': [{'model_type': 'mobilenetv1',\n",
       "   'input_shape': [28, 28, 1],\n",
       "   'resize_shape': [224, 224, 3],\n",
       "   'num_classes': 10,\n",
       "   'epochs': 10,\n",
       "   'batch_size': 64,\n",
       "   'train_ratio': 0.8,\n",
       "   'rand_augmentation': False}]}"
      ]
     },
     "execution_count": 6,
     "metadata": {},
     "output_type": "execute_result"
    }
   ],
   "source": [
    "# IC train asset 순서에 따라 step 순서를 입력합니다. (input(0) - train(1))\n",
    "step = 1\n",
    "ic_args = alo.user_parameters[pipeline][step]\n",
    "\n",
    "# 아래 주석을 풀어 ic_args를 원하는 값으로 수정합니다. \n",
    "# ic_args['epochs'] = 100\n",
    "ic_args"
   ]
  },
  {
   "cell_type": "markdown",
   "id": "ad0c0b28-561d-4815-b4fc-f2078e1a0f59",
   "metadata": {},
   "source": [
    "##### train asset 실행 "
   ]
  },
  {
   "cell_type": "code",
   "execution_count": null,
   "id": "b27afecf",
   "metadata": {},
   "outputs": [
    {
     "name": "stdout",
     "output_type": "stream",
     "text": [
      "************************************************************\n",
      "************************************************************\n",
      "\u001b[92m>> Successfully got model path for saving or loading your AI model: \n",
      " /home/jovyan/ic/alo//.train_artifacts/models/train/\u001b[0m\n",
      "\u001b[92m>> Successfully got << output path >> for saving your data into csv or jpg file: \n",
      " /home/jovyan/ic/alo//.train_artifacts/output/train/ \n",
      " L [NOTE] The names of output file must be fixed as << output.csv, output.jpg >> \u001b[0m\n"
     ]
    },
    {
     "name": "stderr",
     "output_type": "stream",
     "text": [
      "2023-10-26 01:29:49.105702: W tensorflow/stream_executor/platform/default/dso_loader.cc:64] Could not load dynamic library 'libcuda.so.1'; dlerror: libcuda.so.1: cannot open shared object file: No such file or directory; LD_LIBRARY_PATH: /home/jovyan/conda/envs/ic/lib/python3.10/site-packages/cv2/../../lib64:/home/jovyan/conda/envs/py39_gpu/lib/:/home/jovyan/conda/lib/:/home/jovyan/conda/envs/aic_gpu/lib/:/usr/local/cuda/lib64:/usr/local/cuda/extras/CUPTI/lib64:/usr/local/nvidia/lib:/usr/local/nvidia/lib64\n",
      "2023-10-26 01:29:49.105753: W tensorflow/stream_executor/cuda/cuda_driver.cc:269] failed call to cuInit: UNKNOWN ERROR (303)\n",
      "2023-10-26 01:29:49.105782: I tensorflow/stream_executor/cuda/cuda_diagnostics.cc:156] kernel driver does not appear to be running on this host (jupyter-yoonji-2esuh): /proc/driver/nvidia/version does not exist\n",
      "2023-10-26 01:29:49.113380: I tensorflow/core/platform/cpu_feature_guard.cc:193] This TensorFlow binary is optimized with oneAPI Deep Neural Network Library (oneDNN) to use the following CPU instructions in performance-critical operations:  AVX2 FMA\n",
      "To enable them in other operations, rebuild TensorFlow with the appropriate compiler flags.\n"
     ]
    },
    {
     "name": "stdout",
     "output_type": "stream",
     "text": [
      "# of original training data:800 / # of augmented training data:0 / # of validation data:200\n",
      "resize_shape: (224, 224, 3)\n",
      "selected model: mobilenet V1\n",
      "Epoch 1/10\n",
      "      8/Unknown - 19s 2s/step - loss: 1.6235 - accuracy: 0.5371"
     ]
    }
   ],
   "source": [
    "data = pipe_val = {} # 초기 input asset process 세팅\n",
    "\n",
    "data_train, config_train = alo.process_asset_step(asset_config[step], step, pipeline, data_input, config_input)\n",
    "# data_train: input asset의 결과물입니다. 다음 asset 실행 시 필요합니다. \n",
    "# config_train: input asset의 결과 config입니다. 다음 asset실행 시 필요합니다.\n",
    "\n",
    "# input asset의 결과 dataframe은 data_train['dataframe']으로 확인할 수 있습니다. \n",
    "data_train['dataframe'].head(10) "
   ]
  },
  {
   "cell_type": "markdown",
   "id": "f681c8a8-ffde-4f59-a694-1b3849b90dd4",
   "metadata": {
    "tags": []
   },
   "source": [
    "<br>\n",
    "\n",
    "## Inference workflow \n",
    "### 1. Input asset \n",
    "##### Input asset의 arguments 수정 및 확인\n",
    "- 필요한경우 input_args의 항목을 ***input_args[argument명]=value입력*** 을 통해 변경할 수 있습니다.  "
   ]
  },
  {
   "cell_type": "code",
   "execution_count": null,
   "id": "8572efcf",
   "metadata": {},
   "outputs": [],
   "source": [
    "pipeline = pipelines[1]\n",
    "external_load_data(pipeline, alo.external_path, alo.external_path_permission)\n",
    "\n",
    "alo.install_steps(pipeline, alo.control[\"get_asset_source\"])"
   ]
  },
  {
   "cell_type": "code",
   "execution_count": null,
   "id": "f5efc199",
   "metadata": {},
   "outputs": [],
   "source": [
    "# IC inference asset 순서에 따라 step 순서를 입력합니다. (input(0) - inference(1))\n",
    "step = 0\n",
    "input_args = alo.user_parameters[pipeline][step]\n",
    "\n",
    "# 아래 주석을 풀어 input_args를 원하는 값으로 수정합니다. \n",
    "# input_args['path_column'] = ['path']\n",
    "input_args"
   ]
  },
  {
   "cell_type": "markdown",
   "id": "f705ac75-11a8-4093-9531-3b09de8fc38e",
   "metadata": {},
   "source": [
    "##### Input asset 실행 "
   ]
  },
  {
   "cell_type": "code",
   "execution_count": null,
   "id": "b233612f",
   "metadata": {
    "scrolled": true
   },
   "outputs": [],
   "source": [
    "data = pipe_val = {} # 초기 input asset process 세팅\n",
    "\n",
    "data_input, config_input = alo.process_asset_step(asset_config[step], step, pipeline)\n",
    "# data_input: input asset의 결과물입니다. 다음 asset 실행 시 필요합니다. \n",
    "# config_input: input asset의 결과 config입니다. 다음 asset실행 시 필요합니다.\n",
    "\n",
    "# input asset의 결과 dataframe은 data_input['dataframe']으로 확인할 수 있습니다. \n",
    "data_input['dataframe'].head(10) "
   ]
  },
  {
   "cell_type": "markdown",
   "id": "6a66a6da-7efd-4c9f-92b4-b91366365db7",
   "metadata": {},
   "source": [
    "<br>\n",
    "\n",
    "### 2. inference asset \n",
    "##### inference asset의 args수정 및 확인\n",
    "- 필요한경우 IC_args의 항목을 ***IC_args[argument명]=value입력*** 을 통해 변경할 수 있습니다.  "
   ]
  },
  {
   "cell_type": "code",
   "execution_count": null,
   "id": "6d15774f",
   "metadata": {},
   "outputs": [],
   "source": [
    "# IC inference asset 순서에 따라 step 순서를 입력합니다. (input(0) - inference(1))\n",
    "step = 1\n",
    "ic_args = alo.user_parameters[pipeline][step]\n",
    "\n",
    "# 아래 주석을 풀어 ic_args를 원하는 값으로 수정합니다. \n",
    "# ic_args['epochs'] = 100\n",
    "ic_args"
   ]
  },
  {
   "cell_type": "markdown",
   "id": "e5544d75-1e2f-4009-9e24-7cb91bc18ced",
   "metadata": {},
   "source": [
    "##### inference asset 실행 "
   ]
  },
  {
   "cell_type": "code",
   "execution_count": null,
   "id": "f6bd9035",
   "metadata": {
    "scrolled": true
   },
   "outputs": [],
   "source": [
    "data = pipe_val = {} # 초기 input asset process 세팅\n",
    "\n",
    "data_input, config_input = alo.process_asset_step(asset_config[step], step, pipeline, data_input, config_input)\n",
    "# data_input: input asset의 결과물입니다. 다음 asset 실행 시 필요합니다. \n",
    "# config_input: input asset의 결과 config입니다. 다음 asset실행 시 필요합니다.\n",
    "\n",
    "# input asset의 결과 dataframe은 data_input['dataframe']으로 확인할 수 있습니다. \n",
    "data_input['dataframe'].head(10) "
   ]
  },
  {
   "cell_type": "code",
   "execution_count": null,
   "id": "3e66f4eb",
   "metadata": {},
   "outputs": [],
   "source": []
  }
 ],
 "metadata": {
  "kernelspec": {
   "display_name": "ic",
   "language": "python",
   "name": "ic"
  },
  "language_info": {
   "codemirror_mode": {
    "name": "ipython",
    "version": 3
   },
   "file_extension": ".py",
   "mimetype": "text/x-python",
   "name": "python",
   "nbconvert_exporter": "python",
   "pygments_lexer": "ipython3",
   "version": "3.10.12"
  }
 },
 "nbformat": 4,
 "nbformat_minor": 5
}
