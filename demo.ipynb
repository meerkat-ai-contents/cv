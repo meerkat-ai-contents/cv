{
 "cells": [
  {
   "cell_type": "markdown",
   "metadata": {},
   "source": [
    "# Check input data\n",
    "\n",
    "## train pipeline\n",
    "\n",
    "- ./solution/sample_data/train 아래 이미지와 csv파일 리스트를 확인합니다.\n",
    "- csv파일은 head를 보고 어떤 항목으로 구성되어 있는지 확인합니다.\n",
    "\n",
    "## inference pipeline\n",
    "\n",
    "- ./solution/sample_data/test 아래 이미지 확인합니다.\n",
    "\n"
   ]
  },
  {
   "cell_type": "markdown",
   "metadata": {},
   "source": [
    "# Setting tips\n",
    "\n",
    "#### Ground Truth 데이터 경로 선택하기\n",
    "Ground Truth(GT) 데이터와 이미지를 같은 폴더에 넣어주세요. ALO에서 GT파일과 이미지를 한 번에 분석환경으로 복사합니다. GT 데이터는 이미지 경로(`image_path`) 항목과 라벨(`label`) 항목으로 이루어져야 합니다. GT 데이터 내에 다른 항목이 있어도 분석에 사용되지 않습니다. `image_path`라는 항목명은 분석 시 변경할 수 있으나(이 때 실험계획서 내 `path_column`명을 동일하게 바꿔주세요) 솔루션 개발 완료 후 운영 시 반영되지 않기 때문에 가능하면 `image_path`로 작성해주세요. 이 때 이미지의 사이즈는 모든 데이터에 대해 일정한 것이 좋습니다. 만약 다른 사이즈의 이미지가 있는 경우 성능이 떨어질 수 있으며 가능하면 crop을 하거나 resize를 통해 미리 일정한 사이즈로 유지하는게 좋습니다.\n",
    "\n",
    "#### 모델 선택하기\n",
    "현재 지원되는 모델은 `mobilenetv1`과 `high_resolution`의 두 가지 있습니다. `mobilenetv1`은 기본 모델로 어떤 데이터에 대해서도 안정적으로 학습/추론이 가능합니다. 경량화 모델이기 때문에 `resize_shape`은 `224, 224, 3` 형태가 권장됩니다. 더 높은 해상도를 원하는 경우 `high_resolution` 모델을 선택하고 `resize_shape` parameter를 수정해주세요. \n",
    "\n",
    "#### 데이터 증강 기법 선택하기 \n",
    "데이터가 충분하지 않 은 경우(image 당 1000장 이하) rand_augmentation 기능을 True로 설정하면 증강기법을 통해 더 다양하고 많은 데이터로 학습할 수 있습니다. 이 때 과제의 유형과 증강 기법을 살펴보고 과제에 적합하지 않은 변환은 제외해주세요.(자세한 설정 방법은 하단의 Train pipeline: Add data augmentation을 참고해주세요.) \n",
    "\n",
    "#### 성능과 리소스 절감을 위한 설명\n",
    "데이터의 양이 많고 복잡한 문제인 경우 epochs를 늘리면 성능이 향상됩니다. 만약 epochs를 너무 길게 설정하여 과최적화가 우려되더라도 checkpoint기능을 통해 학습 중 검증 데이터의 성능이 가장 좋은 모델을 사용하기 때문에 문제가 발생하지 않습니다. 학습 데이터 수가 많고 학습 리소스가 충분한 경우(메모리와 GPU 메모리), batch_size를 늘리면 빠르게 학습하고 좋은 성능의 모델이 생성됩니다. 만약 데이터 수가 아주 많지만 정형화되어 있어 소수만 학습하고 대부분을 검증 데이터로 활용하고 싶은 경우 `train_ratio`를 낮추면 됩니다.\n",
    "\n",
    "#### 이미지 내 추론 근거 영역 확인하기(XAI 설명)\n",
    "만약 추론 시 어떤 영역을 근거로 하여 해당 라벨을 예측했는지 알고 싶다면 do_xai 옵션을 True로 바꾸면 됩니다. OK/NG와 같이 binary로 학습하고 NG에 대한 근거만 확인하고 싶다면 xai_class를 NG로 작성하시면 됩니다. 만약 XAI 민감도가 지나치게 낮아 영역이 거의 표시되지 않은 경우 mask_threshold를 낮추면 더 넓은 영역이 표시됩니다. 더 깊은 층을 분석하여 정확한 결과를 알고 싶은 경우 layer_index를 늘리면 모델에서 더 깊은 층을 활용하여 XAI 결과를 도출하지만 추론 시 리소스가 많이 소요됩니다."
   ]
  },
  {
   "cell_type": "markdown",
   "metadata": {},
   "source": [
    "# Check output data\n",
    "\n",
    "## train_artifacts\n",
    "\n",
    "- output/prediction.csv 파일의 head를 보고 어떤 항목으로 구성되어 있는지 확인합니다.\n",
    "- extra_output/confusion.csv와 eval.json 출력합니다.\n",
    "\n",
    "## inference pipeline\n",
    "\n",
    "- output/prediction.csv 파일의 head를 보고 어떤 항목으로 구성되어 있는지 확인합니다.\n",
    "- output/1072_3.png 파일이 retrain 과정에서 edge conductor로 전송되어 쌓입니다.\n",
    "- extra_output/inference/xai_result 경로에 XAI이미지가 저장됩니다.\n",
    "- score/inference_summary.yaml를 확인하고 여기에 저장된 score값에 따라 edge application에서 모델의 확실도를 확인할 수 있습니다."
   ]
  },
  {
   "cell_type": "markdown",
   "metadata": {},
   "source": [
    "# "
   ]
  }
 ],
 "metadata": {
  "language_info": {
   "name": "python"
  }
 },
 "nbformat": 4,
 "nbformat_minor": 2
}
