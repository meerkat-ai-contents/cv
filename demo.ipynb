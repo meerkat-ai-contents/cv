{
 "cells": [
  {
   "cell_type": "markdown",
   "metadata": {},
   "source": [
    "# Check input data\n",
    "\n",
    "## train pipeline\n",
    "\n",
    "- ./solution/sample_data/train 아래 이미지와 csv파일 리스트를 확인합니다.\n",
    "- csv파일은 head를 보고 어떤 항목으로 구성되어 있는지 확인합니다.\n",
    "\n",
    "## inference pipeline\n",
    "\n",
    "- ./solution/sample_data/test 아래 이미지 확인합니다.\n",
    "\n",
    "# Check output data\n",
    "\n",
    "## train_artifacts\n",
    "\n",
    "- output/prediction.csv 파일의 head를 보고 어떤 항목으로 구성되어 있는지 확인합니다.\n",
    "- extra_output/confusion.csv와 eval.json 출력합니다.\n",
    "\n",
    "## inference pipeline\n",
    "\n",
    "- output/prediction.csv 파일의 head를 보고 어떤 항목으로 구성되어 있는지 확인합니다.\n",
    "- output/1072_3.png 파일이 retrain 과정에서 edge conductor로 전송되어 쌓입니다.\n",
    "- extra_output/inference/xai_result 경로에 XAI이미지가 저장됩니다.\n",
    "- score/inference_summary.yaml를 확인하고 여기에 저장된 score값에 따라 edge application에서 모델의 확실도를 확인할 수 있습니다."
   ]
  },
  {
   "cell_type": "markdown",
   "metadata": {},
   "source": [
    "# "
   ]
  }
 ],
 "metadata": {
  "language_info": {
   "name": "python"
  }
 },
 "nbformat": 4,
 "nbformat_minor": 2
}
