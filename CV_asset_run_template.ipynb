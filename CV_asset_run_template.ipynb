{
 "cells": [
  {
   "cell_type": "markdown",
   "id": "362b6b5c-8668-46b6-b5d8-00888c5580fa",
   "metadata": {},
   "source": [
    "아래는 ALO 기본 설정 및 라이브러리 설치 코드입니다. library 설치 에러가 발생하면 아래 셀을 재실행 하고, 지속적으로 문제가 있을 시 문의바랍니다"
   ]
  },
  {
   "cell_type": "code",
   "execution_count": null,
   "id": "6991397c",
   "metadata": {},
   "outputs": [],
   "source": [
    "import argparse\n",
    "import time\n",
    "import os\n",
    "os.chdir(os.path.abspath(os.path.join('./alo')))\n",
    "from src.alo import ALO\n",
    "alo = ALO(); alo.preset(); pipelines = list(alo.asset_source.keys())\n",
    "from src.external import external_load_data, external_save_artifacts"
   ]
  },
  {
   "cell_type": "code",
   "execution_count": null,
   "id": "0f3eb838",
   "metadata": {},
   "outputs": [],
   "source": [
    "import pandas as pd\n",
    "\n",
    "def make_ground_truth(path,save_path,data_type='png'):\n",
    "\n",
    "    path_list = []\n",
    "    col_names = ['label','image_path']\n",
    "    \n",
    "    data_type_dict = {}\n",
    "    data_type_dict['png'] = ['png']\n",
    "    data_type_dict['jpg'] = ['jpg']\n",
    "    data_type_dict['both'] =  ['png','jpg']\n",
    "    \n",
    "    \n",
    "    WALK = os.walk(path)\n",
    "    i = 0\n",
    "    for (Root,Dir,fles) in WALK:\n",
    "        for fle in fles:\n",
    "            if fle.split('.')[-1] in data_type_dict[data_type]:\n",
    "                path_list.append([Root.split('/')[-1] , os.path.join(Root,fle)])\n",
    "                if i<5:\n",
    "                    print(path_list[-1])\n",
    "                    i += 1\n",
    "            \n",
    "    df = pd.DataFrame(path_list,columns = col_names)\n",
    "    df.to_csv(save_path,index=False)\n",
    "    \n",
    "    return path_list,df\n"
   ]
  },
  {
   "cell_type": "markdown",
   "id": "a2fb8e31",
   "metadata": {},
   "source": [
    "## Ground truth data 만들기 샘플 코드"
   ]
  },
  {
   "cell_type": "code",
   "execution_count": null,
   "id": "062e4cd5",
   "metadata": {},
   "outputs": [],
   "source": [
    "# train 혹은 test 데이터 각각에 대해 ground truth 파일을 각각 만들어야 합니다.\n",
    "\n",
    "# train 혹은 test 데이터가 있는 폴더명을 입력합니다.\n",
    "dataDir = '/nas001/users/yoonji.suh/sample_data/mnist_png/mnist_png/train/'\n",
    "# ground truth 파일이 저장될 경로를 확장자 까지 입력합니다.\n",
    "saveDir = '/home/jovyan/testCsv.csv'\n",
    "\n",
    "lst,df = make_ground_truth(dataDir,saveDir)\n",
    "print('complete')\n",
    "df.head()"
   ]
  },
  {
   "cell_type": "markdown",
   "id": "2014b11a",
   "metadata": {},
   "source": [
    "## Train workflow"
   ]
  },
  {
   "cell_type": "code",
   "execution_count": null,
   "id": "59fbd193",
   "metadata": {},
   "outputs": [],
   "source": [
    "# 아래는 Train 시 필요한 라이브러리를 설치하는 코드입니다. library 설치 에러가 발생하면 아래 셀을 재실행 해주세요\n",
    "external_load_data(pipelines[0], alo.external_path, alo.external_path_permission, alo.control['get_external_data'])\n",
    "pipeline = pipelines[0]\n",
    "alo.install_steps(pipeline, alo.control[\"get_asset_source\"])"
   ]
  },
  {
   "cell_type": "markdown",
   "id": "9b9f36d6-84e0-440e-80d3-b462254b006a",
   "metadata": {
    "tags": []
   },
   "source": [
    "### 1. Input asset \n",
    "##### Input asset의 arguments 수정 및 확인\n",
    "- 필요한경우 input_args의 항목을 ***input_args[argument명]=value입력*** 을 통해 변경할 수 있습니다.  "
   ]
  },
  {
   "cell_type": "code",
   "execution_count": null,
   "id": "8093bfc0",
   "metadata": {},
   "outputs": [],
   "source": [
    "# TCR train asset 순서에 따라 step 순서를 입력합니다. (input(0) - preprocess(1) - sampling(2) - train(3))\n",
    "step = 0 \n",
    "input_args = alo.user_parameters[pipeline][step]['args'][0].copy()\n",
    "\n",
    "# 아래 주석을 풀어 input_args를 원하는 값으로 수정합니다. \n",
    "# input_args['x_columns'] = ['input_x0','input_x1']\n",
    "input_args"
   ]
  },
  {
   "cell_type": "markdown",
   "id": "017bbb5c-b15e-4b8b-98c9-9b355da55263",
   "metadata": {},
   "source": [
    "##### Input asset 실행 "
   ]
  },
  {
   "cell_type": "code",
   "execution_count": null,
   "id": "d5c23a29",
   "metadata": {},
   "outputs": [],
   "source": [
    "data = pipe_val = {} # 초기 input asset process 세팅\n",
    "\n",
    "data_input, config_input = alo.process_asset_step(alo.asset_source[pipeline][step], step, pipeline, data, pipe_val, [input_args])\n",
    "# data_input: input asset의 결과물입니다. 다음 asset 실행 시 필요합니다. \n",
    "# config_input: input asset의 결과 config입니다. 다음 asset실행 시 필요합니다.\n",
    "\n",
    "# input asset의 결과 dataframe은 data_input['dataframe']으로 확인할 수 있습니다. \n",
    "data_input['dataframe'].head(10) "
   ]
  },
  {
   "cell_type": "markdown",
   "id": "c3b6a3a7-2204-42b5-8cc8-a5b5f740f457",
   "metadata": {},
   "source": [
    "</br>\n",
    "\n",
    "### 2. train asset \n",
    "##### train asset의 args수정 및 확인\n",
    "- 필요한경우 IC_args의 항목을 ***IC_args[argument명]=value입력*** 을 통해 변경할 수 있습니다.  "
   ]
  },
  {
   "cell_type": "code",
   "execution_count": null,
   "id": "e9ee91cc",
   "metadata": {},
   "outputs": [],
   "source": [
    "# IC train asset 순서에 따라 step 순서를 입력합니다. (input(0) - train(1))\n",
    "step = 1 \n",
    "ic_args = alo.user_parameters[pipeline][step]['args'][0].copy()\n",
    "\n",
    "# 아래 주석을 풀어 preprocess_args 수정합니다. \n",
    "# train_args['epochs'] = 1\n",
    "ic_args"
   ]
  },
  {
   "cell_type": "markdown",
   "id": "ad0c0b28-561d-4815-b4fc-f2078e1a0f59",
   "metadata": {},
   "source": [
    "##### train asset 실행 "
   ]
  },
  {
   "cell_type": "code",
   "execution_count": null,
   "id": "b27afecf",
   "metadata": {},
   "outputs": [],
   "source": [
    "data_ic, config_ic = alo.process_asset_step(alo.asset_source[pipeline][step], step, pipeline, data_input, config_input.copy(), [ic_args])\n",
    "# data_train: IC asset의 결과물입니다. 다음 asset 실행 시 필요합니다. \n",
    "# config_train: IC asset의 결과 config입니다. 다음 asset실행 시 필요합니다. \n",
    "\n",
    "# ic asset의 결과 dataframe은 data_ic['dataframe']으로 확인할 수 있습니다. \n",
    "data_ic['dataframe'].head(10) "
   ]
  },
  {
   "cell_type": "code",
   "execution_count": null,
   "id": "fb616dae",
   "metadata": {},
   "outputs": [],
   "source": [
    "data_ic.keys()"
   ]
  },
  {
   "cell_type": "markdown",
   "id": "2fd4ba08",
   "metadata": {},
   "source": [
    "## Inference workflow"
   ]
  },
  {
   "cell_type": "code",
   "execution_count": null,
   "id": "71c66347",
   "metadata": {},
   "outputs": [],
   "source": [
    "# 아래는 Inference 시 필요한 라이브러리를 설치하는 코드입니다. library 설치 에러가 발생하면 아래 셀을 재실행 해주세요\n",
    "external_load_data(pipelines[1], alo.external_path, alo.external_path_permission, alo.control['get_external_data'])\n",
    "pipeline = pipelines[1]\n",
    "alo.install_steps(pipeline, alo.control[\"get_asset_source\"])"
   ]
  },
  {
   "cell_type": "markdown",
   "id": "f681c8a8-ffde-4f59-a694-1b3849b90dd4",
   "metadata": {
    "tags": []
   },
   "source": [
    "### 1. Input asset \n",
    "##### Input asset의 arguments 수정 및 확인\n",
    "- 필요한경우 input_args의 항목을 ***input_args[argument명]=value입력*** 을 통해 변경할 수 있습니다.  "
   ]
  },
  {
   "cell_type": "code",
   "execution_count": null,
   "id": "f5efc199",
   "metadata": {
    "scrolled": true
   },
   "outputs": [],
   "source": [
    "# IC inference asset 순서에 따라 step 순서를 입력합니다. (input(0) - inference(1))\n",
    "step = 0\n",
    "input_args = alo.user_parameters[pipeline][step]['args'][0].copy()\n",
    "\n",
    "# 아래 주석을 풀어 input_args를 원하는 값으로 수정합니다. \n",
    "# input_args['path_column'] = ['path']\n",
    "input_args"
   ]
  },
  {
   "cell_type": "markdown",
   "id": "f705ac75-11a8-4093-9531-3b09de8fc38e",
   "metadata": {},
   "source": [
    "##### Input asset 실행 "
   ]
  },
  {
   "cell_type": "code",
   "execution_count": null,
   "id": "b233612f",
   "metadata": {
    "scrolled": true
   },
   "outputs": [],
   "source": [
    "data = pipe_val = {} # 초기 input asset process 세팅\n",
    "\n",
    "data_input, config_input = alo.process_asset_step(alo.asset_source[pipeline][step], step, pipeline, data, pipe_val, [input_args])\n",
    "# data_input: input asset의 결과물입니다. 다음 asset 실행 시 필요합니다. \n",
    "# config_input: input asset의 결과 config입니다. 다음 asset실행 시 필요합니다.\n",
    "\n",
    "# input asset의 결과 dataframe은 data_input['dataframe']으로 확인할 수 있습니다. \n",
    "data_input['dataframe'].head(10) "
   ]
  },
  {
   "cell_type": "markdown",
   "id": "6a66a6da-7efd-4c9f-92b4-b91366365db7",
   "metadata": {},
   "source": [
    "<br>\n",
    "\n",
    "### 2. inference asset \n",
    "##### inference asset의 args수정 및 확인\n",
    "- 필요한경우 IC_args의 항목을 ***IC_args[argument명]=value입력*** 을 통해 변경할 수 있습니다.  "
   ]
  },
  {
   "cell_type": "code",
   "execution_count": null,
   "id": "6d15774f",
   "metadata": {},
   "outputs": [],
   "source": [
    "# IC inference asset 순서에 따라 step 순서를 입력합니다. (input(0) - inference(1))\n",
    "step = 1\n",
    "ic_args = alo.user_parameters[pipeline][step]['args'][0].copy()\n",
    "\n",
    "ic_args"
   ]
  },
  {
   "cell_type": "markdown",
   "id": "e5544d75-1e2f-4009-9e24-7cb91bc18ced",
   "metadata": {},
   "source": [
    "##### inference asset 실행 "
   ]
  },
  {
   "cell_type": "code",
   "execution_count": null,
   "id": "f6bd9035",
   "metadata": {
    "scrolled": true
   },
   "outputs": [],
   "source": [
    "data_ic, config_ic = alo.process_asset_step(alo.asset_source[pipeline][step], step, pipeline, data_input, config_input.copy(), [ic_args])\n",
    "# data_ic: IC asset의 결과물입니다. \n",
    "# config_ic: IC asset의 결과 config입니다. \n",
    "\n",
    "# ic asset의 결과 dataframe은 data_ic['dataframe']으로 확인할 수 있습니다. \n",
    "data_ic['dataframe'].head(10) "
   ]
  },
  {
   "cell_type": "code",
   "execution_count": null,
   "id": "3e66f4eb",
   "metadata": {},
   "outputs": [],
   "source": []
  }
 ],
 "metadata": {
  "kernelspec": {
   "display_name": "ic",
   "language": "python",
   "name": "ic"
  },
  "language_info": {
   "codemirror_mode": {
    "name": "ipython",
    "version": 3
   },
   "file_extension": ".py",
   "mimetype": "text/x-python",
   "name": "python",
   "nbconvert_exporter": "python",
   "pygments_lexer": "ipython3",
   "version": "3.10.12"
  }
 },
 "nbformat": 4,
 "nbformat_minor": 5
}
