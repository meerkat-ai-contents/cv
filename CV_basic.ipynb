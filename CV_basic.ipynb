{
 "cells": [
  {
   "cell_type": "markdown",
   "id": "4a9516e9",
   "metadata": {},
   "source": [
    "# Welcome to Image Classification\n",
    "\n",
    "## This jupyter notebook is basic instruction of Image Classification "
   ]
  },
  {
   "cell_type": "code",
   "execution_count": 1,
   "id": "4051f1ed",
   "metadata": {},
   "outputs": [],
   "source": [
    "import matplotlib.pyplot as plt"
   ]
  },
  {
   "cell_type": "code",
   "execution_count": 2,
   "id": "d9d39b99",
   "metadata": {},
   "outputs": [],
   "source": [
    "from glob import glob"
   ]
  },
  {
   "cell_type": "code",
   "execution_count": null,
   "id": "5e4d01ad",
   "metadata": {},
   "outputs": [],
   "source": [
    "import pandas as pd"
   ]
  },
  {
   "cell_type": "code",
   "execution_count": 32,
   "id": "0b6ef3b2",
   "metadata": {},
   "outputs": [],
   "source": [
    "path = [item for item in glob('../history/train/*') if 'error' not in item][-1]"
   ]
  },
  {
   "cell_type": "code",
   "execution_count": null,
   "id": "9e540460",
   "metadata": {},
   "outputs": [
    {
     "data": {
      "text/plain": [
       "'../history/train/20240405T003056Z-71746882-CV'"
      ]
     },
     "metadata": {},
     "output_type": "display_data"
    }
   ],
   "source": [
    "path"
   ]
  },
  {
   "cell_type": "code",
   "execution_count": 34,
   "id": "e8e3bce7",
   "metadata": {},
   "outputs": [],
   "source": [
    "path_json = '%s/models/train/params.json' % path\n",
    "with open(path_json, 'r') as f:\n",
    "    data = json.load(f)"
   ]
  },
  {
   "cell_type": "code",
   "execution_count": 35,
   "id": "06249175",
   "metadata": {},
   "outputs": [
    {
     "data": {
      "text/plain": [
       "{'model_type': 'high_resolution',\n",
       " 'x_columns': 0,\n",
       " 'label': 0,\n",
       " 'model_path': '/home/yj.suh/project/dev/cv/train_artifacts/models/train/',\n",
       " 'output_path': '/home/yj.suh/project/dev/cv/train_artifacts/output/',\n",
       " 'input_shape': [28, 28, 1],\n",
       " 'num_classes': 10,\n",
       " 'epochs': 500,\n",
       " 'batch_size': 64,\n",
       " 'dropout_rate': 0.2,\n",
       " 'shuffle_buffer_size': 1000,\n",
       " 'path_column': 'image_path',\n",
       " 'do_xai': False,\n",
       " 'xai_class': 'auto',\n",
       " 'layer_index': 2,\n",
       " 'mask_threshold': 0.7,\n",
       " 'output_extra_path': '/home/yj.suh/project/dev/cv/train_artifacts/extra_output/train/',\n",
       " 'y_column': 'label',\n",
       " 'prediction_column_prefix': 'pred',\n",
       " 'probability_column_prefix': 'prob',\n",
       " 'label_names': [0, 1, 2, 3, 4, 5, 6, 7, 8, 9],\n",
       " 'resize_shape': [32, 32, 3],\n",
       " 'rand_augmentation': True,\n",
       " 'exclude_aug_lst': ['Cutout'],\n",
       " 'input_path': '/home/yj.suh/project/dev/cv/input/train/',\n",
       " 'file_type': 'image_path',\n",
       " 'encoding': 'utf-8'}"
      ]
     },
     "execution_count": 35,
     "metadata": {},
     "output_type": "execute_result"
    }
   ],
   "source": [
    "data"
   ]
  },
  {
   "cell_type": "code",
   "execution_count": 10,
   "id": "2bf6df38",
   "metadata": {},
   "outputs": [
    {
     "data": {
      "text/plain": [
       "'../history/train/20240404T080202Z-40218546-CV'"
      ]
     },
     "execution_count": 10,
     "metadata": {},
     "output_type": "execute_result"
    }
   ],
   "source": [
    "path = '../history/train/20240404T080202Z-40218546-CV'"
   ]
  },
  {
   "cell_type": "code",
   "execution_count": 19,
   "id": "c9c37dfc",
   "metadata": {},
   "outputs": [],
   "source": [
    "import json"
   ]
  },
  {
   "cell_type": "code",
   "execution_count": 20,
   "id": "a7217279",
   "metadata": {},
   "outputs": [],
   "source": [
    "path_json = '%s/models/train/params.json' % path\n",
    "with open(path_json, 'r') as f:\n",
    "    data = json.load(f)"
   ]
  },
  {
   "cell_type": "code",
   "execution_count": 21,
   "id": "4a905de5",
   "metadata": {},
   "outputs": [
    {
     "data": {
      "text/plain": [
       "{'model_type': 'high_resolution',\n",
       " 'x_columns': 0,\n",
       " 'label': 0,\n",
       " 'model_path': '/home/yj.suh/project/dev/cv/train_artifacts/models/train/',\n",
       " 'output_path': '/home/yj.suh/project/dev/cv/train_artifacts/output/',\n",
       " 'input_shape': [28, 28, 1],\n",
       " 'num_classes': 10,\n",
       " 'epochs': 500,\n",
       " 'batch_size': 64,\n",
       " 'dropout_rate': 0.2,\n",
       " 'shuffle_buffer_size': 1000,\n",
       " 'path_column': 'image_path',\n",
       " 'do_xai': False,\n",
       " 'xai_class': 'auto',\n",
       " 'layer_index': 2,\n",
       " 'mask_threshold': 0.7,\n",
       " 'output_extra_path': '/home/yj.suh/project/dev/cv/train_artifacts/extra_output/train/',\n",
       " 'y_column': 'label',\n",
       " 'prediction_column_prefix': 'pred',\n",
       " 'probability_column_prefix': 'prob',\n",
       " 'label_names': [0, 1, 2, 3, 4, 5, 6, 7, 8, 9],\n",
       " 'resize_shape': [224, 224, 3],\n",
       " 'rand_augmentation': True,\n",
       " 'exclude_aug_lst': [],\n",
       " 'input_path': '/home/yj.suh/project/dev/cv/input/train/',\n",
       " 'file_type': 'image_path',\n",
       " 'encoding': 'utf-8'}"
      ]
     },
     "execution_count": 21,
     "metadata": {},
     "output_type": "execute_result"
    }
   ],
   "source": [
    "data"
   ]
  },
  {
   "cell_type": "code",
   "execution_count": 36,
   "id": "cd69c7c3",
   "metadata": {},
   "outputs": [],
   "source": [
    "df_path = '%s/output/prediction.csv' % path\n",
    "df = pd.read_csv(df_path)"
   ]
  },
  {
   "cell_type": "code",
   "execution_count": 38,
   "id": "7a46a6fa",
   "metadata": {},
   "outputs": [
    {
     "data": {
      "text/html": [
       "<div>\n",
       "<style scoped>\n",
       "    .dataframe tbody tr th:only-of-type {\n",
       "        vertical-align: middle;\n",
       "    }\n",
       "\n",
       "    .dataframe tbody tr th {\n",
       "        vertical-align: top;\n",
       "    }\n",
       "\n",
       "    .dataframe thead th {\n",
       "        text-align: right;\n",
       "    }\n",
       "</style>\n",
       "<table border=\"1\" class=\"dataframe\">\n",
       "  <thead>\n",
       "    <tr style=\"text-align: right;\">\n",
       "      <th></th>\n",
       "      <th>Unnamed: 0</th>\n",
       "      <th>image_path</th>\n",
       "      <th>label</th>\n",
       "      <th>pred_label</th>\n",
       "      <th>prob_0</th>\n",
       "      <th>prob_1</th>\n",
       "      <th>prob_2</th>\n",
       "      <th>prob_3</th>\n",
       "      <th>prob_4</th>\n",
       "      <th>prob_5</th>\n",
       "      <th>prob_6</th>\n",
       "      <th>prob_7</th>\n",
       "      <th>prob_8</th>\n",
       "      <th>prob_9</th>\n",
       "    </tr>\n",
       "  </thead>\n",
       "  <tbody>\n",
       "    <tr>\n",
       "      <th>0</th>\n",
       "      <td>0</td>\n",
       "      <td>/home/yj.suh/project/dev/cv/input/train/train/...</td>\n",
       "      <td>7</td>\n",
       "      <td>5</td>\n",
       "      <td>0.212698</td>\n",
       "      <td>1.182387e-04</td>\n",
       "      <td>1.793347e-03</td>\n",
       "      <td>1.359273e-03</td>\n",
       "      <td>1.364448e-03</td>\n",
       "      <td>0.737379</td>\n",
       "      <td>1.857664e-02</td>\n",
       "      <td>0.005378</td>\n",
       "      <td>0.020244</td>\n",
       "      <td>0.001090</td>\n",
       "    </tr>\n",
       "    <tr>\n",
       "      <th>1</th>\n",
       "      <td>1</td>\n",
       "      <td>/home/yj.suh/project/dev/cv/input/train/train/...</td>\n",
       "      <td>2</td>\n",
       "      <td>0</td>\n",
       "      <td>0.944415</td>\n",
       "      <td>1.991931e-05</td>\n",
       "      <td>3.038441e-04</td>\n",
       "      <td>1.649635e-03</td>\n",
       "      <td>1.244309e-04</td>\n",
       "      <td>0.014479</td>\n",
       "      <td>3.519128e-02</td>\n",
       "      <td>0.000015</td>\n",
       "      <td>0.003780</td>\n",
       "      <td>0.000022</td>\n",
       "    </tr>\n",
       "    <tr>\n",
       "      <th>2</th>\n",
       "      <td>2</td>\n",
       "      <td>/home/yj.suh/project/dev/cv/input/train/train/...</td>\n",
       "      <td>7</td>\n",
       "      <td>5</td>\n",
       "      <td>0.433898</td>\n",
       "      <td>1.222040e-04</td>\n",
       "      <td>1.264449e-03</td>\n",
       "      <td>3.927697e-03</td>\n",
       "      <td>1.726373e-03</td>\n",
       "      <td>0.468603</td>\n",
       "      <td>2.945488e-02</td>\n",
       "      <td>0.003381</td>\n",
       "      <td>0.057043</td>\n",
       "      <td>0.000579</td>\n",
       "    </tr>\n",
       "    <tr>\n",
       "      <th>3</th>\n",
       "      <td>3</td>\n",
       "      <td>/home/yj.suh/project/dev/cv/input/train/train/...</td>\n",
       "      <td>8</td>\n",
       "      <td>0</td>\n",
       "      <td>0.500561</td>\n",
       "      <td>3.060218e-04</td>\n",
       "      <td>2.989616e-03</td>\n",
       "      <td>1.453014e-02</td>\n",
       "      <td>5.192489e-03</td>\n",
       "      <td>0.283434</td>\n",
       "      <td>4.364792e-02</td>\n",
       "      <td>0.019746</td>\n",
       "      <td>0.127576</td>\n",
       "      <td>0.002018</td>\n",
       "    </tr>\n",
       "    <tr>\n",
       "      <th>4</th>\n",
       "      <td>4</td>\n",
       "      <td>/home/yj.suh/project/dev/cv/input/train/train/...</td>\n",
       "      <td>0</td>\n",
       "      <td>5</td>\n",
       "      <td>0.261706</td>\n",
       "      <td>1.226884e-04</td>\n",
       "      <td>1.408511e-03</td>\n",
       "      <td>7.022344e-03</td>\n",
       "      <td>5.200164e-03</td>\n",
       "      <td>0.556021</td>\n",
       "      <td>2.869022e-02</td>\n",
       "      <td>0.037671</td>\n",
       "      <td>0.097609</td>\n",
       "      <td>0.004551</td>\n",
       "    </tr>\n",
       "    <tr>\n",
       "      <th>...</th>\n",
       "      <td>...</td>\n",
       "      <td>...</td>\n",
       "      <td>...</td>\n",
       "      <td>...</td>\n",
       "      <td>...</td>\n",
       "      <td>...</td>\n",
       "      <td>...</td>\n",
       "      <td>...</td>\n",
       "      <td>...</td>\n",
       "      <td>...</td>\n",
       "      <td>...</td>\n",
       "      <td>...</td>\n",
       "      <td>...</td>\n",
       "      <td>...</td>\n",
       "    </tr>\n",
       "    <tr>\n",
       "      <th>995</th>\n",
       "      <td>995</td>\n",
       "      <td>/home/yj.suh/project/dev/cv/input/train/train/...</td>\n",
       "      <td>9</td>\n",
       "      <td>5</td>\n",
       "      <td>0.349842</td>\n",
       "      <td>2.872355e-04</td>\n",
       "      <td>2.726916e-03</td>\n",
       "      <td>1.473968e-02</td>\n",
       "      <td>5.853291e-03</td>\n",
       "      <td>0.422359</td>\n",
       "      <td>3.651948e-02</td>\n",
       "      <td>0.026575</td>\n",
       "      <td>0.138240</td>\n",
       "      <td>0.002858</td>\n",
       "    </tr>\n",
       "    <tr>\n",
       "      <th>996</th>\n",
       "      <td>996</td>\n",
       "      <td>/home/yj.suh/project/dev/cv/input/train/train/...</td>\n",
       "      <td>6</td>\n",
       "      <td>5</td>\n",
       "      <td>0.000078</td>\n",
       "      <td>1.296131e-09</td>\n",
       "      <td>1.095888e-07</td>\n",
       "      <td>1.115468e-08</td>\n",
       "      <td>5.150705e-08</td>\n",
       "      <td>0.999795</td>\n",
       "      <td>1.460290e-07</td>\n",
       "      <td>0.000118</td>\n",
       "      <td>0.000004</td>\n",
       "      <td>0.000006</td>\n",
       "    </tr>\n",
       "    <tr>\n",
       "      <th>997</th>\n",
       "      <td>997</td>\n",
       "      <td>/home/yj.suh/project/dev/cv/input/train/train/...</td>\n",
       "      <td>1</td>\n",
       "      <td>5</td>\n",
       "      <td>0.016515</td>\n",
       "      <td>4.804637e-06</td>\n",
       "      <td>2.885229e-04</td>\n",
       "      <td>3.805124e-05</td>\n",
       "      <td>8.361327e-05</td>\n",
       "      <td>0.959140</td>\n",
       "      <td>4.646458e-04</td>\n",
       "      <td>0.005625</td>\n",
       "      <td>0.014284</td>\n",
       "      <td>0.003556</td>\n",
       "    </tr>\n",
       "    <tr>\n",
       "      <th>998</th>\n",
       "      <td>998</td>\n",
       "      <td>/home/yj.suh/project/dev/cv/input/train/train/...</td>\n",
       "      <td>8</td>\n",
       "      <td>0</td>\n",
       "      <td>0.754379</td>\n",
       "      <td>3.878495e-04</td>\n",
       "      <td>3.465052e-03</td>\n",
       "      <td>1.285313e-02</td>\n",
       "      <td>3.705673e-03</td>\n",
       "      <td>0.082635</td>\n",
       "      <td>1.011891e-01</td>\n",
       "      <td>0.002678</td>\n",
       "      <td>0.036766</td>\n",
       "      <td>0.001941</td>\n",
       "    </tr>\n",
       "    <tr>\n",
       "      <th>999</th>\n",
       "      <td>999</td>\n",
       "      <td>/home/yj.suh/project/dev/cv/input/train/train/...</td>\n",
       "      <td>1</td>\n",
       "      <td>5</td>\n",
       "      <td>0.000130</td>\n",
       "      <td>1.425402e-08</td>\n",
       "      <td>1.595661e-05</td>\n",
       "      <td>1.851071e-07</td>\n",
       "      <td>1.452865e-06</td>\n",
       "      <td>0.981504</td>\n",
       "      <td>2.008261e-06</td>\n",
       "      <td>0.017743</td>\n",
       "      <td>0.000419</td>\n",
       "      <td>0.000184</td>\n",
       "    </tr>\n",
       "  </tbody>\n",
       "</table>\n",
       "<p>1000 rows × 14 columns</p>\n",
       "</div>"
      ],
      "text/plain": [
       "     Unnamed: 0                                         image_path  label  \\\n",
       "0             0  /home/yj.suh/project/dev/cv/input/train/train/...      7   \n",
       "1             1  /home/yj.suh/project/dev/cv/input/train/train/...      2   \n",
       "2             2  /home/yj.suh/project/dev/cv/input/train/train/...      7   \n",
       "3             3  /home/yj.suh/project/dev/cv/input/train/train/...      8   \n",
       "4             4  /home/yj.suh/project/dev/cv/input/train/train/...      0   \n",
       "..          ...                                                ...    ...   \n",
       "995         995  /home/yj.suh/project/dev/cv/input/train/train/...      9   \n",
       "996         996  /home/yj.suh/project/dev/cv/input/train/train/...      6   \n",
       "997         997  /home/yj.suh/project/dev/cv/input/train/train/...      1   \n",
       "998         998  /home/yj.suh/project/dev/cv/input/train/train/...      8   \n",
       "999         999  /home/yj.suh/project/dev/cv/input/train/train/...      1   \n",
       "\n",
       "     pred_label    prob_0        prob_1        prob_2        prob_3  \\\n",
       "0             5  0.212698  1.182387e-04  1.793347e-03  1.359273e-03   \n",
       "1             0  0.944415  1.991931e-05  3.038441e-04  1.649635e-03   \n",
       "2             5  0.433898  1.222040e-04  1.264449e-03  3.927697e-03   \n",
       "3             0  0.500561  3.060218e-04  2.989616e-03  1.453014e-02   \n",
       "4             5  0.261706  1.226884e-04  1.408511e-03  7.022344e-03   \n",
       "..          ...       ...           ...           ...           ...   \n",
       "995           5  0.349842  2.872355e-04  2.726916e-03  1.473968e-02   \n",
       "996           5  0.000078  1.296131e-09  1.095888e-07  1.115468e-08   \n",
       "997           5  0.016515  4.804637e-06  2.885229e-04  3.805124e-05   \n",
       "998           0  0.754379  3.878495e-04  3.465052e-03  1.285313e-02   \n",
       "999           5  0.000130  1.425402e-08  1.595661e-05  1.851071e-07   \n",
       "\n",
       "           prob_4    prob_5        prob_6    prob_7    prob_8    prob_9  \n",
       "0    1.364448e-03  0.737379  1.857664e-02  0.005378  0.020244  0.001090  \n",
       "1    1.244309e-04  0.014479  3.519128e-02  0.000015  0.003780  0.000022  \n",
       "2    1.726373e-03  0.468603  2.945488e-02  0.003381  0.057043  0.000579  \n",
       "3    5.192489e-03  0.283434  4.364792e-02  0.019746  0.127576  0.002018  \n",
       "4    5.200164e-03  0.556021  2.869022e-02  0.037671  0.097609  0.004551  \n",
       "..            ...       ...           ...       ...       ...       ...  \n",
       "995  5.853291e-03  0.422359  3.651948e-02  0.026575  0.138240  0.002858  \n",
       "996  5.150705e-08  0.999795  1.460290e-07  0.000118  0.000004  0.000006  \n",
       "997  8.361327e-05  0.959140  4.646458e-04  0.005625  0.014284  0.003556  \n",
       "998  3.705673e-03  0.082635  1.011891e-01  0.002678  0.036766  0.001941  \n",
       "999  1.452865e-06  0.981504  2.008261e-06  0.017743  0.000419  0.000184  \n",
       "\n",
       "[1000 rows x 14 columns]"
      ]
     },
     "execution_count": 38,
     "metadata": {},
     "output_type": "execute_result"
    }
   ],
   "source": [
    "df"
   ]
  },
  {
   "cell_type": "code",
   "execution_count": 40,
   "id": "df279928",
   "metadata": {},
   "outputs": [
    {
     "data": {
      "text/plain": [
       "array([[ 9,  0,  0,  0,  0, 85,  0,  0,  0,  0],\n",
       "       [ 0,  0,  0,  0,  0, 98,  0,  0,  0,  0],\n",
       "       [64,  0,  0,  0,  0, 27,  0,  0, 11,  0],\n",
       "       [ 2,  0,  0,  0,  0, 96,  1,  0,  2,  0],\n",
       "       [43,  0,  0,  0,  0, 38,  0,  0, 14,  0],\n",
       "       [27,  0,  0,  0,  0, 66,  0,  0,  0,  0],\n",
       "       [42,  0,  0,  0,  0, 60,  1,  0,  3,  0],\n",
       "       [14,  0,  0,  0,  0, 91,  0,  3,  3,  0],\n",
       "       [49,  0,  0,  0,  0, 37,  0,  7,  3,  0],\n",
       "       [12,  0,  1,  1,  0, 50,  0, 23, 17,  0]])"
      ]
     },
     "execution_count": 40,
     "metadata": {},
     "output_type": "execute_result"
    }
   ],
   "source": [
    "confusion_matrix(df['label'], df['pred_label'])"
   ]
  },
  {
   "cell_type": "code",
   "execution_count": 39,
   "id": "515b3aaa",
   "metadata": {},
   "outputs": [
    {
     "name": "stdout",
     "output_type": "stream",
     "text": [
      "              precision    recall  f1-score   support\n",
      "\n",
      "           0       0.03      0.10      0.05        94\n",
      "           1       0.00      0.00      0.00        98\n",
      "           2       0.00      0.00      0.00       102\n",
      "           3       0.00      0.00      0.00       101\n",
      "           4       0.00      0.00      0.00        95\n",
      "           5       0.10      0.71      0.18        93\n",
      "           6       0.50      0.01      0.02       106\n",
      "           7       0.09      0.03      0.04       111\n",
      "           8       0.06      0.03      0.04        96\n",
      "           9       0.00      0.00      0.00       104\n",
      "\n",
      "    accuracy                           0.08      1000\n",
      "   macro avg       0.08      0.09      0.03      1000\n",
      "weighted avg       0.08      0.08      0.03      1000\n",
      "\n"
     ]
    },
    {
     "name": "stderr",
     "output_type": "stream",
     "text": [
      "/home/yj.suh/miniconda3/envs/test_fcst/lib/python3.10/site-packages/sklearn/metrics/_classification.py:1471: UndefinedMetricWarning: Precision and F-score are ill-defined and being set to 0.0 in labels with no predicted samples. Use `zero_division` parameter to control this behavior.\n",
      "  _warn_prf(average, modifier, msg_start, len(result))\n",
      "/home/yj.suh/miniconda3/envs/test_fcst/lib/python3.10/site-packages/sklearn/metrics/_classification.py:1471: UndefinedMetricWarning: Precision and F-score are ill-defined and being set to 0.0 in labels with no predicted samples. Use `zero_division` parameter to control this behavior.\n",
      "  _warn_prf(average, modifier, msg_start, len(result))\n",
      "/home/yj.suh/miniconda3/envs/test_fcst/lib/python3.10/site-packages/sklearn/metrics/_classification.py:1471: UndefinedMetricWarning: Precision and F-score are ill-defined and being set to 0.0 in labels with no predicted samples. Use `zero_division` parameter to control this behavior.\n",
      "  _warn_prf(average, modifier, msg_start, len(result))\n"
     ]
    }
   ],
   "source": [
    "print(classification_report(df['label'], df['pred_label']))"
   ]
  },
  {
   "cell_type": "code",
   "execution_count": 25,
   "id": "ce7268b9",
   "metadata": {},
   "outputs": [],
   "source": [
    "df_path = '../history/train/20240404T080202Z-40218546-CV/output/prediction.csv'\n",
    "df = pd.read_csv(df_path)"
   ]
  },
  {
   "cell_type": "code",
   "execution_count": 27,
   "id": "34a4edd8",
   "metadata": {},
   "outputs": [],
   "source": [
    "from sklearn.metrics import confusion_matrix, classification_report"
   ]
  },
  {
   "cell_type": "code",
   "execution_count": 28,
   "id": "f30b8970",
   "metadata": {},
   "outputs": [
    {
     "data": {
      "text/plain": [
       "array([[  0,   0,   0,   0,   0,  10,  84,   0,   0,   0],\n",
       "       [  0,   0,   0,   0,   0,  22,  76,   0,   0,   0],\n",
       "       [  0,   0,   0,   0,   0,   2, 100,   0,   0,   0],\n",
       "       [  0,   0,   0,   0,   0,  13,  88,   0,   0,   0],\n",
       "       [  0,   0,   0,   0,   0,   2,  93,   0,   0,   0],\n",
       "       [  0,   0,   0,   0,   0,  31,  62,   0,   0,   0],\n",
       "       [  0,   0,   0,   0,   0,   2, 104,   0,   0,   0],\n",
       "       [  0,   0,   0,   0,   0,  17,  94,   0,   0,   0],\n",
       "       [  0,   0,   0,   0,   0,   5,  91,   0,   0,   0],\n",
       "       [  0,   0,   0,   0,   0,  14,  90,   0,   0,   0]])"
      ]
     },
     "execution_count": 28,
     "metadata": {},
     "output_type": "execute_result"
    }
   ],
   "source": [
    "confusion_matrix(df['label'], df['pred_label'])"
   ]
  },
  {
   "cell_type": "code",
   "execution_count": 30,
   "id": "e7c4b754",
   "metadata": {},
   "outputs": [
    {
     "name": "stdout",
     "output_type": "stream",
     "text": [
      "              precision    recall  f1-score   support\n",
      "\n",
      "           0       0.00      0.00      0.00        94\n",
      "           1       0.00      0.00      0.00        98\n",
      "           2       0.00      0.00      0.00       102\n",
      "           3       0.00      0.00      0.00       101\n",
      "           4       0.00      0.00      0.00        95\n",
      "           5       0.26      0.33      0.29        93\n",
      "           6       0.12      0.98      0.21       106\n",
      "           7       0.00      0.00      0.00       111\n",
      "           8       0.00      0.00      0.00        96\n",
      "           9       0.00      0.00      0.00       104\n",
      "\n",
      "    accuracy                           0.14      1000\n",
      "   macro avg       0.04      0.13      0.05      1000\n",
      "weighted avg       0.04      0.14      0.05      1000\n",
      "\n"
     ]
    },
    {
     "name": "stderr",
     "output_type": "stream",
     "text": [
      "/home/yj.suh/miniconda3/envs/test_fcst/lib/python3.10/site-packages/sklearn/metrics/_classification.py:1471: UndefinedMetricWarning: Precision and F-score are ill-defined and being set to 0.0 in labels with no predicted samples. Use `zero_division` parameter to control this behavior.\n",
      "  _warn_prf(average, modifier, msg_start, len(result))\n",
      "/home/yj.suh/miniconda3/envs/test_fcst/lib/python3.10/site-packages/sklearn/metrics/_classification.py:1471: UndefinedMetricWarning: Precision and F-score are ill-defined and being set to 0.0 in labels with no predicted samples. Use `zero_division` parameter to control this behavior.\n",
      "  _warn_prf(average, modifier, msg_start, len(result))\n",
      "/home/yj.suh/miniconda3/envs/test_fcst/lib/python3.10/site-packages/sklearn/metrics/_classification.py:1471: UndefinedMetricWarning: Precision and F-score are ill-defined and being set to 0.0 in labels with no predicted samples. Use `zero_division` parameter to control this behavior.\n",
      "  _warn_prf(average, modifier, msg_start, len(result))\n"
     ]
    }
   ],
   "source": [
    "print(classification_report(df['label'], df['pred_label']))"
   ]
  },
  {
   "cell_type": "code",
   "execution_count": 26,
   "id": "40badc54",
   "metadata": {},
   "outputs": [
    {
     "data": {
      "text/html": [
       "<div>\n",
       "<style scoped>\n",
       "    .dataframe tbody tr th:only-of-type {\n",
       "        vertical-align: middle;\n",
       "    }\n",
       "\n",
       "    .dataframe tbody tr th {\n",
       "        vertical-align: top;\n",
       "    }\n",
       "\n",
       "    .dataframe thead th {\n",
       "        text-align: right;\n",
       "    }\n",
       "</style>\n",
       "<table border=\"1\" class=\"dataframe\">\n",
       "  <thead>\n",
       "    <tr style=\"text-align: right;\">\n",
       "      <th></th>\n",
       "      <th>Unnamed: 0</th>\n",
       "      <th>image_path</th>\n",
       "      <th>label</th>\n",
       "      <th>pred_label</th>\n",
       "      <th>prob_0</th>\n",
       "      <th>prob_1</th>\n",
       "      <th>prob_2</th>\n",
       "      <th>prob_3</th>\n",
       "      <th>prob_4</th>\n",
       "      <th>prob_5</th>\n",
       "      <th>prob_6</th>\n",
       "      <th>prob_7</th>\n",
       "      <th>prob_8</th>\n",
       "      <th>prob_9</th>\n",
       "    </tr>\n",
       "  </thead>\n",
       "  <tbody>\n",
       "    <tr>\n",
       "      <th>0</th>\n",
       "      <td>0</td>\n",
       "      <td>/home/yj.suh/project/dev/cv/input/train/train/...</td>\n",
       "      <td>7</td>\n",
       "      <td>6</td>\n",
       "      <td>7.845601e-08</td>\n",
       "      <td>6.128801e-08</td>\n",
       "      <td>0.000011</td>\n",
       "      <td>0.000022</td>\n",
       "      <td>5.808027e-07</td>\n",
       "      <td>0.290225</td>\n",
       "      <td>0.709732</td>\n",
       "      <td>8.119520e-06</td>\n",
       "      <td>2.391337e-07</td>\n",
       "      <td>6.115699e-08</td>\n",
       "    </tr>\n",
       "    <tr>\n",
       "      <th>1</th>\n",
       "      <td>1</td>\n",
       "      <td>/home/yj.suh/project/dev/cv/input/train/train/...</td>\n",
       "      <td>2</td>\n",
       "      <td>6</td>\n",
       "      <td>1.224107e-07</td>\n",
       "      <td>4.402428e-07</td>\n",
       "      <td>0.000055</td>\n",
       "      <td>0.000210</td>\n",
       "      <td>2.606857e-06</td>\n",
       "      <td>0.114083</td>\n",
       "      <td>0.885642</td>\n",
       "      <td>7.514104e-06</td>\n",
       "      <td>2.514346e-07</td>\n",
       "      <td>1.096526e-07</td>\n",
       "    </tr>\n",
       "    <tr>\n",
       "      <th>2</th>\n",
       "      <td>2</td>\n",
       "      <td>/home/yj.suh/project/dev/cv/input/train/train/...</td>\n",
       "      <td>7</td>\n",
       "      <td>6</td>\n",
       "      <td>6.357260e-08</td>\n",
       "      <td>1.063781e-07</td>\n",
       "      <td>0.000017</td>\n",
       "      <td>0.000033</td>\n",
       "      <td>1.129247e-06</td>\n",
       "      <td>0.442165</td>\n",
       "      <td>0.557777</td>\n",
       "      <td>6.419488e-06</td>\n",
       "      <td>3.454470e-07</td>\n",
       "      <td>1.192452e-07</td>\n",
       "    </tr>\n",
       "    <tr>\n",
       "      <th>3</th>\n",
       "      <td>3</td>\n",
       "      <td>/home/yj.suh/project/dev/cv/input/train/train/...</td>\n",
       "      <td>8</td>\n",
       "      <td>6</td>\n",
       "      <td>8.299986e-08</td>\n",
       "      <td>7.834294e-08</td>\n",
       "      <td>0.000022</td>\n",
       "      <td>0.000037</td>\n",
       "      <td>1.111274e-06</td>\n",
       "      <td>0.063225</td>\n",
       "      <td>0.936709</td>\n",
       "      <td>5.702474e-06</td>\n",
       "      <td>1.399406e-07</td>\n",
       "      <td>2.772442e-08</td>\n",
       "    </tr>\n",
       "    <tr>\n",
       "      <th>4</th>\n",
       "      <td>4</td>\n",
       "      <td>/home/yj.suh/project/dev/cv/input/train/train/...</td>\n",
       "      <td>0</td>\n",
       "      <td>6</td>\n",
       "      <td>9.561713e-09</td>\n",
       "      <td>3.473250e-09</td>\n",
       "      <td>0.000003</td>\n",
       "      <td>0.000006</td>\n",
       "      <td>9.298716e-08</td>\n",
       "      <td>0.150317</td>\n",
       "      <td>0.849673</td>\n",
       "      <td>2.299892e-07</td>\n",
       "      <td>2.705689e-08</td>\n",
       "      <td>3.218180e-09</td>\n",
       "    </tr>\n",
       "    <tr>\n",
       "      <th>...</th>\n",
       "      <td>...</td>\n",
       "      <td>...</td>\n",
       "      <td>...</td>\n",
       "      <td>...</td>\n",
       "      <td>...</td>\n",
       "      <td>...</td>\n",
       "      <td>...</td>\n",
       "      <td>...</td>\n",
       "      <td>...</td>\n",
       "      <td>...</td>\n",
       "      <td>...</td>\n",
       "      <td>...</td>\n",
       "      <td>...</td>\n",
       "      <td>...</td>\n",
       "    </tr>\n",
       "    <tr>\n",
       "      <th>995</th>\n",
       "      <td>995</td>\n",
       "      <td>/home/yj.suh/project/dev/cv/input/train/train/...</td>\n",
       "      <td>9</td>\n",
       "      <td>6</td>\n",
       "      <td>2.553928e-07</td>\n",
       "      <td>3.711410e-07</td>\n",
       "      <td>0.000032</td>\n",
       "      <td>0.000096</td>\n",
       "      <td>2.957371e-06</td>\n",
       "      <td>0.187374</td>\n",
       "      <td>0.812477</td>\n",
       "      <td>1.646918e-05</td>\n",
       "      <td>6.418444e-07</td>\n",
       "      <td>2.190219e-07</td>\n",
       "    </tr>\n",
       "    <tr>\n",
       "      <th>996</th>\n",
       "      <td>996</td>\n",
       "      <td>/home/yj.suh/project/dev/cv/input/train/train/...</td>\n",
       "      <td>6</td>\n",
       "      <td>6</td>\n",
       "      <td>1.987070e-08</td>\n",
       "      <td>1.546160e-08</td>\n",
       "      <td>0.000006</td>\n",
       "      <td>0.000004</td>\n",
       "      <td>3.204884e-07</td>\n",
       "      <td>0.056177</td>\n",
       "      <td>0.943812</td>\n",
       "      <td>7.518950e-07</td>\n",
       "      <td>1.347927e-07</td>\n",
       "      <td>1.197659e-08</td>\n",
       "    </tr>\n",
       "    <tr>\n",
       "      <th>997</th>\n",
       "      <td>997</td>\n",
       "      <td>/home/yj.suh/project/dev/cv/input/train/train/...</td>\n",
       "      <td>1</td>\n",
       "      <td>6</td>\n",
       "      <td>8.171431e-08</td>\n",
       "      <td>4.300962e-07</td>\n",
       "      <td>0.000069</td>\n",
       "      <td>0.000062</td>\n",
       "      <td>2.036165e-06</td>\n",
       "      <td>0.433731</td>\n",
       "      <td>0.566110</td>\n",
       "      <td>2.610127e-05</td>\n",
       "      <td>3.272034e-07</td>\n",
       "      <td>2.253968e-07</td>\n",
       "    </tr>\n",
       "    <tr>\n",
       "      <th>998</th>\n",
       "      <td>998</td>\n",
       "      <td>/home/yj.suh/project/dev/cv/input/train/train/...</td>\n",
       "      <td>8</td>\n",
       "      <td>6</td>\n",
       "      <td>2.384732e-08</td>\n",
       "      <td>4.892928e-08</td>\n",
       "      <td>0.000011</td>\n",
       "      <td>0.000047</td>\n",
       "      <td>4.412569e-07</td>\n",
       "      <td>0.150168</td>\n",
       "      <td>0.849771</td>\n",
       "      <td>2.532125e-06</td>\n",
       "      <td>4.631913e-08</td>\n",
       "      <td>1.890051e-08</td>\n",
       "    </tr>\n",
       "    <tr>\n",
       "      <th>999</th>\n",
       "      <td>999</td>\n",
       "      <td>/home/yj.suh/project/dev/cv/input/train/train/...</td>\n",
       "      <td>1</td>\n",
       "      <td>6</td>\n",
       "      <td>6.851512e-08</td>\n",
       "      <td>8.975144e-07</td>\n",
       "      <td>0.000029</td>\n",
       "      <td>0.000038</td>\n",
       "      <td>1.473878e-06</td>\n",
       "      <td>0.411450</td>\n",
       "      <td>0.588451</td>\n",
       "      <td>2.852887e-05</td>\n",
       "      <td>3.383924e-07</td>\n",
       "      <td>2.014557e-07</td>\n",
       "    </tr>\n",
       "  </tbody>\n",
       "</table>\n",
       "<p>1000 rows × 14 columns</p>\n",
       "</div>"
      ],
      "text/plain": [
       "     Unnamed: 0                                         image_path  label  \\\n",
       "0             0  /home/yj.suh/project/dev/cv/input/train/train/...      7   \n",
       "1             1  /home/yj.suh/project/dev/cv/input/train/train/...      2   \n",
       "2             2  /home/yj.suh/project/dev/cv/input/train/train/...      7   \n",
       "3             3  /home/yj.suh/project/dev/cv/input/train/train/...      8   \n",
       "4             4  /home/yj.suh/project/dev/cv/input/train/train/...      0   \n",
       "..          ...                                                ...    ...   \n",
       "995         995  /home/yj.suh/project/dev/cv/input/train/train/...      9   \n",
       "996         996  /home/yj.suh/project/dev/cv/input/train/train/...      6   \n",
       "997         997  /home/yj.suh/project/dev/cv/input/train/train/...      1   \n",
       "998         998  /home/yj.suh/project/dev/cv/input/train/train/...      8   \n",
       "999         999  /home/yj.suh/project/dev/cv/input/train/train/...      1   \n",
       "\n",
       "     pred_label        prob_0        prob_1    prob_2    prob_3        prob_4  \\\n",
       "0             6  7.845601e-08  6.128801e-08  0.000011  0.000022  5.808027e-07   \n",
       "1             6  1.224107e-07  4.402428e-07  0.000055  0.000210  2.606857e-06   \n",
       "2             6  6.357260e-08  1.063781e-07  0.000017  0.000033  1.129247e-06   \n",
       "3             6  8.299986e-08  7.834294e-08  0.000022  0.000037  1.111274e-06   \n",
       "4             6  9.561713e-09  3.473250e-09  0.000003  0.000006  9.298716e-08   \n",
       "..          ...           ...           ...       ...       ...           ...   \n",
       "995           6  2.553928e-07  3.711410e-07  0.000032  0.000096  2.957371e-06   \n",
       "996           6  1.987070e-08  1.546160e-08  0.000006  0.000004  3.204884e-07   \n",
       "997           6  8.171431e-08  4.300962e-07  0.000069  0.000062  2.036165e-06   \n",
       "998           6  2.384732e-08  4.892928e-08  0.000011  0.000047  4.412569e-07   \n",
       "999           6  6.851512e-08  8.975144e-07  0.000029  0.000038  1.473878e-06   \n",
       "\n",
       "       prob_5    prob_6        prob_7        prob_8        prob_9  \n",
       "0    0.290225  0.709732  8.119520e-06  2.391337e-07  6.115699e-08  \n",
       "1    0.114083  0.885642  7.514104e-06  2.514346e-07  1.096526e-07  \n",
       "2    0.442165  0.557777  6.419488e-06  3.454470e-07  1.192452e-07  \n",
       "3    0.063225  0.936709  5.702474e-06  1.399406e-07  2.772442e-08  \n",
       "4    0.150317  0.849673  2.299892e-07  2.705689e-08  3.218180e-09  \n",
       "..        ...       ...           ...           ...           ...  \n",
       "995  0.187374  0.812477  1.646918e-05  6.418444e-07  2.190219e-07  \n",
       "996  0.056177  0.943812  7.518950e-07  1.347927e-07  1.197659e-08  \n",
       "997  0.433731  0.566110  2.610127e-05  3.272034e-07  2.253968e-07  \n",
       "998  0.150168  0.849771  2.532125e-06  4.631913e-08  1.890051e-08  \n",
       "999  0.411450  0.588451  2.852887e-05  3.383924e-07  2.014557e-07  \n",
       "\n",
       "[1000 rows x 14 columns]"
      ]
     },
     "execution_count": 26,
     "metadata": {},
     "output_type": "execute_result"
    }
   ],
   "source": [
    "df"
   ]
  },
  {
   "cell_type": "code",
   "execution_count": 31,
   "id": "facc0496",
   "metadata": {},
   "outputs": [
    {
     "data": {
      "text/plain": [
       "['../history/train/20240404T080202Z-40218546-CV/models',\n",
       " '../history/train/20240404T080202Z-40218546-CV/log',\n",
       " '../history/train/20240404T080202Z-40218546-CV/register_source',\n",
       " '../history/train/20240404T080202Z-40218546-CV/score',\n",
       " '../history/train/20240404T080202Z-40218546-CV/experimental_plan.yaml',\n",
       " '../history/train/20240404T080202Z-40218546-CV/output',\n",
       " '../history/train/20240404T080202Z-40218546-CV/report']"
      ]
     },
     "execution_count": 31,
     "metadata": {},
     "output_type": "execute_result"
    }
   ],
   "source": [
    "\n",
    "glob('%s/*' % path)"
   ]
  },
  {
   "cell_type": "code",
   "execution_count": null,
   "id": "921781c2",
   "metadata": {},
   "outputs": [],
   "source": [
    "!pip install seaborn\n",
    "!pip install missingno\n",
    "!pip install tensorflow==2.14.0\n",
    "\n",
    "from wrapping import Wrapper"
   ]
  },
  {
   "cell_type": "markdown",
   "id": "0d54b5fd",
   "metadata": {},
   "source": [
    "아래는 ALO 기본 설정 및 라이브러리 설치 코드입니다. 설치 에러가 발생하면 아래 셀을 재실행 하고, 지속적으로 문제가 있을 시 문의바랍니다"
   ]
  },
  {
   "cell_type": "markdown",
   "id": "39ce91a6-d23b-4631-92a2-12e15b1b328f",
   "metadata": {
    "tags": []
   },
   "source": [
    "## Train workflow "
   ]
  },
  {
   "cell_type": "code",
   "execution_count": null,
   "id": "8613866c",
   "metadata": {
    "scrolled": true
   },
   "outputs": [],
   "source": [
    "# 아래는 Train 시 필요한 라이브러리를 설치하는 코드입니다. library 설치 에러가 발생하면 아래 셀을 재실행 해주세요\n",
    "wrapper = Wrapper(0)"
   ]
  },
  {
   "cell_type": "markdown",
   "id": "c3445157",
   "metadata": {},
   "source": [
    "### 1. Input asset \n",
    "##### Input asset의 arguments 수정 및 확인\n",
    "- 필요한경우 input_args의 항목을 ***input_args[argument명]=value입력*** 을 통해 변경할 수 있습니다.  "
   ]
  },
  {
   "cell_type": "code",
   "execution_count": null,
   "id": "26e314fb",
   "metadata": {},
   "outputs": [],
   "source": [
    "# TCR train asset 순서에 따라 step 순서를 입력합니다. (input(0) - train(1))\n",
    "input_args = wrapper.get_args(step=0)\n",
    "\n",
    "# 아래 주석을 풀어 input_args를 원하는 값으로 수정합니다. \n",
    "# input_args['set_images'] = False\n",
    "input_args"
   ]
  },
  {
   "cell_type": "markdown",
   "id": "4938a519",
   "metadata": {},
   "source": [
    "##### Input asset 실행 "
   ]
  },
  {
   "cell_type": "code",
   "execution_count": null,
   "id": "64f40c19",
   "metadata": {},
   "outputs": [],
   "source": [
    "wrapper.run(args=input_args) # 변경한 input_args 반영\n",
    "\n",
    "# wrapper.data: input asset의 결과물입니다. 다음 asset 실행 시 필요합니다. \n",
    "# wrapper.config: input asset의 결과 config입니다. 다음 asset실행 시 필요합니다.\n",
    "\n",
    "# input asset의 결과 dataframe은 wrapper.data['dataframe']으로 확인할 수 있습니다. \n",
    "wrapper.data['dataframe'].head(10) "
   ]
  },
  {
   "cell_type": "markdown",
   "id": "3de29d7f",
   "metadata": {},
   "source": [
    "### 2. train asset \n",
    "##### train asset의 args수정 및 확인\n",
    "- 필요한경우 IC_args의 항목을 ***IC_args[argument명]=value입력*** 을 통해 변경할 수 있습니다.  "
   ]
  },
  {
   "cell_type": "code",
   "execution_count": null,
   "id": "f1ee6653-d1aa-4f0a-91bc-3bd60c158a88",
   "metadata": {
    "tags": []
   },
   "outputs": [],
   "source": [
    "# TCR train asset 순서에 따라 step 순서를 입력합니다. (input(0) - train(1))\n",
    "ic_args = wrapper.get_args(step=1)\n",
    "\n",
    "# 아래 주석을 풀어 ic_args 수정합니다. \n",
    "# ic_args['epochs'] = 50\n",
    "ic_args"
   ]
  },
  {
   "cell_type": "markdown",
   "id": "babd87eb",
   "metadata": {},
   "source": [
    "##### train asset 실행 "
   ]
  },
  {
   "cell_type": "code",
   "execution_count": null,
   "id": "3da6ed5f-5324-4775-b748-f4a8592b6aea",
   "metadata": {
    "tags": []
   },
   "outputs": [],
   "source": [
    "wrapper.run(args=ic_args) # 변경한 ic_args 반영\n",
    "# wrapper.data: ic asset의 결과물입니다. 다음 asset 실행 시 필요합니다. \n",
    "# wrapper.config: ic asset의 결과 config입니다. 다음 asset실행 시 필요합니다. \n",
    "\n",
    "# preprocess asset의 결과 dataframe은 wrapper.data['dataframe']으로 확인할 수 있습니다. \n",
    "wrapper.data['dataframe'].head(10) "
   ]
  },
  {
   "cell_type": "markdown",
   "id": "510f0370-76a0-4a67-8f18-fbc0c78be45d",
   "metadata": {},
   "source": [
    "<br>\n",
    "\n",
    "## Inference workflow "
   ]
  },
  {
   "cell_type": "code",
   "execution_count": null,
   "id": "88c4f2ad-3672-47c4-ab90-f242351868a3",
   "metadata": {
    "tags": []
   },
   "outputs": [],
   "source": [
    "# 아래는 Inference 시 필요한 라이브러리를 설치하는 코드입니다. library 설치 에러가 발생하면 아래 셀을 재실행 해주세요\n",
    "wrapper = Wrapper(1)"
   ]
  },
  {
   "cell_type": "markdown",
   "id": "fff83d2d-96f6-4b76-aae2-cde768ccb459",
   "metadata": {
    "tags": []
   },
   "source": [
    "### 1. Input asset \n",
    "##### Input asset의 arguments 수정 및 확인\n",
    "- 필요한경우 input_args의 항목을 ***input_args[argument명]=value입력*** 을 통해 변경할 수 있습니다.  "
   ]
  },
  {
   "cell_type": "code",
   "execution_count": null,
   "id": "9cd4936e-5a10-4912-9be7-b584bbd46faa",
   "metadata": {
    "tags": []
   },
   "outputs": [],
   "source": [
    "# TCR inference asset 순서에 따라 step 순서를 입력합니다. (input(0) - inference(1))\n",
    "input_args =  wrapper.get_args(step=0)\n",
    "\n",
    "# 아래 주석을 풀어 input_args를 원하는 값으로 수정합니다. \n",
    "# input_args['set_images'] = False\n",
    "input_args"
   ]
  },
  {
   "cell_type": "markdown",
   "id": "6f0ebf68-4622-431b-a458-2f6549949457",
   "metadata": {},
   "source": [
    "##### Input asset 실행 "
   ]
  },
  {
   "cell_type": "code",
   "execution_count": null,
   "id": "4b327df2-05c3-4538-abab-2c54bab36358",
   "metadata": {
    "tags": []
   },
   "outputs": [],
   "source": [
    "wrapper.run(args=input_args) # 변경한 input_args 반영\n",
    "# wrapper.data: input asset의 결과물입니다. 다음 asset 실행 시 필요합니다. \n",
    "# wrapper.config: input asset의 결과 config입니다. 다음 asset실행 시 필요합니다.\n",
    "\n",
    "# input asset의 결과 dataframe은 wrapper.data['dataframe']으로 확인할 수 있습니다. \n",
    "wrapper.data['dataframe'].head(10) "
   ]
  },
  {
   "cell_type": "markdown",
   "id": "9bab9a71-b432-42b5-872c-4ebf7e69eafc",
   "metadata": {},
   "source": [
    "<br>\n",
    "\n",
    "### 3. inference asset \n",
    "##### inference asset의 args수정 및 확인\n",
    "- 필요한경우 TCR_args의 항목을 ***TCR_args[argument명]=value입력*** 을 통해 변경할 수 있습니다.  "
   ]
  },
  {
   "cell_type": "markdown",
   "id": "79326071-d505-4ed2-9f8b-a4fbdad14f02",
   "metadata": {},
   "source": [
    "##### inference asset 실행 "
   ]
  },
  {
   "cell_type": "code",
   "execution_count": null,
   "id": "b90de8db-0682-4c6e-b2e7-60a5dd6024fa",
   "metadata": {
    "tags": []
   },
   "outputs": [],
   "source": [
    "wrapper.run(args=input_args) # 변경한 ic_args 반영\n",
    "# wrapper.data: IC asset의 결과물입니다. \n",
    "# wrapper.config: IC asset의 결과 config입니다. \n",
    "\n",
    "# ic asset의 결과 dataframe은 wrapper.data['dataframe']으로 확인할 수 있습니다. \n",
    "wrapper.data['dataframe'].head(10) "
   ]
  }
 ],
 "metadata": {
  "kernelspec": {
   "display_name": "tcr",
   "language": "python",
   "name": "python3"
  },
  "language_info": {
   "codemirror_mode": {
    "name": "ipython",
    "version": 3
   },
   "file_extension": ".py",
   "mimetype": "text/x-python",
   "name": "python",
   "nbconvert_exporter": "python",
   "pygments_lexer": "ipython3",
   "version": "3.10.13"
  }
 },
 "nbformat": 4,
 "nbformat_minor": 5
}
