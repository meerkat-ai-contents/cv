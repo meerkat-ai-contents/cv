{
 "cells": [
  {
   "cell_type": "markdown",
   "id": "4a9516e9",
   "metadata": {},
   "source": [
    "# Welcome to Image Classification\n",
    "\n",
    "## This jupyter notebook is basic instruction of Image Classification "
   ]
  },
  {
   "cell_type": "code",
   "execution_count": null,
   "id": "921781c2",
   "metadata": {},
   "outputs": [],
   "source": [
    "!pip install seaborn\n",
    "!pip install missingno\n",
    "!pip install tensorflow==2.14.0\n",
    "\n",
    "from wrapping import Wrapper"
   ]
  },
  {
   "cell_type": "markdown",
   "id": "0d54b5fd",
   "metadata": {},
   "source": [
    "아래는 ALO 기본 설정 및 라이브러리 설치 코드입니다. 설치 에러가 발생하면 아래 셀을 재실행 하고, 지속적으로 문제가 있을 시 문의바랍니다"
   ]
  },
  {
   "cell_type": "markdown",
   "id": "39ce91a6-d23b-4631-92a2-12e15b1b328f",
   "metadata": {
    "tags": []
   },
   "source": [
    "## Train workflow "
   ]
  },
  {
   "cell_type": "code",
   "execution_count": null,
   "id": "8613866c",
   "metadata": {
    "scrolled": true
   },
   "outputs": [],
   "source": [
    "# 아래는 Train 시 필요한 라이브러리를 설치하는 코드입니다. library 설치 에러가 발생하면 아래 셀을 재실행 해주세요\n",
    "wrapper = Wrapper(0)"
   ]
  },
  {
   "cell_type": "markdown",
   "id": "c3445157",
   "metadata": {},
   "source": [
    "### 1. Input asset \n",
    "##### Input asset의 arguments 수정 및 확인\n",
    "- 필요한경우 input_args의 항목을 ***input_args[argument명]=value입력*** 을 통해 변경할 수 있습니다.  "
   ]
  },
  {
   "cell_type": "code",
   "execution_count": null,
   "id": "26e314fb",
   "metadata": {},
   "outputs": [],
   "source": [
    "# TCR train asset 순서에 따라 step 순서를 입력합니다. (input(0) - train(1))\n",
    "input_args = wrapper.get_args(step=0)\n",
    "\n",
    "# 아래 주석을 풀어 input_args를 원하는 값으로 수정합니다. \n",
    "# input_args['set_images'] = False\n",
    "input_args"
   ]
  },
  {
   "cell_type": "markdown",
   "id": "4938a519",
   "metadata": {},
   "source": [
    "##### Input asset 실행 "
   ]
  },
  {
   "cell_type": "code",
   "execution_count": null,
   "id": "64f40c19",
   "metadata": {},
   "outputs": [],
   "source": [
    "wrapper.run(args=input_args) # 변경한 input_args 반영\n",
    "\n",
    "# wrapper.data: input asset의 결과물입니다. 다음 asset 실행 시 필요합니다. \n",
    "# wrapper.config: input asset의 결과 config입니다. 다음 asset실행 시 필요합니다.\n",
    "\n",
    "# input asset의 결과 dataframe은 wrapper.data['dataframe']으로 확인할 수 있습니다. \n",
    "wrapper.data['dataframe'].head(10) "
   ]
  },
  {
   "cell_type": "markdown",
   "id": "3de29d7f",
   "metadata": {},
   "source": [
    "### 2. train asset \n",
    "##### train asset의 args수정 및 확인\n",
    "- 필요한경우 IC_args의 항목을 ***IC_args[argument명]=value입력*** 을 통해 변경할 수 있습니다.  "
   ]
  },
  {
   "cell_type": "code",
   "execution_count": null,
   "id": "f1ee6653-d1aa-4f0a-91bc-3bd60c158a88",
   "metadata": {
    "tags": []
   },
   "outputs": [],
   "source": [
    "# TCR train asset 순서에 따라 step 순서를 입력합니다. (input(0) - train(1))\n",
    "ic_args = wrapper.get_args(step=1)\n",
    "\n",
    "# 아래 주석을 풀어 ic_args 수정합니다. \n",
    "# ic_args['epochs'] = 50\n",
    "ic_args"
   ]
  },
  {
   "cell_type": "markdown",
   "id": "babd87eb",
   "metadata": {},
   "source": [
    "##### train asset 실행 "
   ]
  },
  {
   "cell_type": "code",
   "execution_count": null,
   "id": "3da6ed5f-5324-4775-b748-f4a8592b6aea",
   "metadata": {
    "tags": []
   },
   "outputs": [],
   "source": [
    "wrapper.run(args=ic_args) # 변경한 ic_args 반영\n",
    "# wrapper.data: ic asset의 결과물입니다. 다음 asset 실행 시 필요합니다. \n",
    "# wrapper.config: ic asset의 결과 config입니다. 다음 asset실행 시 필요합니다. \n",
    "\n",
    "# preprocess asset의 결과 dataframe은 wrapper.data['dataframe']으로 확인할 수 있습니다. \n",
    "wrapper.data['dataframe'].head(10) "
   ]
  },
  {
   "cell_type": "markdown",
   "id": "510f0370-76a0-4a67-8f18-fbc0c78be45d",
   "metadata": {},
   "source": [
    "<br>\n",
    "\n",
    "## Inference workflow "
   ]
  },
  {
   "cell_type": "code",
   "execution_count": null,
   "id": "88c4f2ad-3672-47c4-ab90-f242351868a3",
   "metadata": {
    "tags": []
   },
   "outputs": [],
   "source": [
    "# 아래는 Inference 시 필요한 라이브러리를 설치하는 코드입니다. library 설치 에러가 발생하면 아래 셀을 재실행 해주세요\n",
    "wrapper = Wrapper(1)"
   ]
  },
  {
   "cell_type": "markdown",
   "id": "fff83d2d-96f6-4b76-aae2-cde768ccb459",
   "metadata": {
    "tags": []
   },
   "source": [
    "### 1. Input asset \n",
    "##### Input asset의 arguments 수정 및 확인\n",
    "- 필요한경우 input_args의 항목을 ***input_args[argument명]=value입력*** 을 통해 변경할 수 있습니다.  "
   ]
  },
  {
   "cell_type": "code",
   "execution_count": null,
   "id": "9cd4936e-5a10-4912-9be7-b584bbd46faa",
   "metadata": {
    "tags": []
   },
   "outputs": [],
   "source": [
    "# TCR inference asset 순서에 따라 step 순서를 입력합니다. (input(0) - inference(1))\n",
    "input_args =  wrapper.get_args(step=0)\n",
    "\n",
    "# 아래 주석을 풀어 input_args를 원하는 값으로 수정합니다. \n",
    "# input_args['set_images'] = False\n",
    "input_args"
   ]
  },
  {
   "cell_type": "markdown",
   "id": "6f0ebf68-4622-431b-a458-2f6549949457",
   "metadata": {},
   "source": [
    "##### Input asset 실행 "
   ]
  },
  {
   "cell_type": "code",
   "execution_count": null,
   "id": "4b327df2-05c3-4538-abab-2c54bab36358",
   "metadata": {
    "tags": []
   },
   "outputs": [],
   "source": [
    "wrapper.run(args=input_args) # 변경한 input_args 반영\n",
    "# wrapper.data: input asset의 결과물입니다. 다음 asset 실행 시 필요합니다. \n",
    "# wrapper.config: input asset의 결과 config입니다. 다음 asset실행 시 필요합니다.\n",
    "\n",
    "# input asset의 결과 dataframe은 wrapper.data['dataframe']으로 확인할 수 있습니다. \n",
    "wrapper.data['dataframe'].head(10) "
   ]
  },
  {
   "cell_type": "markdown",
   "id": "9bab9a71-b432-42b5-872c-4ebf7e69eafc",
   "metadata": {},
   "source": [
    "<br>\n",
    "\n",
    "### 3. inference asset \n",
    "##### inference asset의 args수정 및 확인\n",
    "- 필요한경우 TCR_args의 항목을 ***TCR_args[argument명]=value입력*** 을 통해 변경할 수 있습니다.  "
   ]
  },
  {
   "cell_type": "markdown",
   "id": "79326071-d505-4ed2-9f8b-a4fbdad14f02",
   "metadata": {},
   "source": [
    "##### inference asset 실행 "
   ]
  },
  {
   "cell_type": "code",
   "execution_count": null,
   "id": "b90de8db-0682-4c6e-b2e7-60a5dd6024fa",
   "metadata": {
    "tags": []
   },
   "outputs": [],
   "source": [
    "wrapper.run(args=input_args) # 변경한 ic_args 반영\n",
    "# wrapper.data: IC asset의 결과물입니다. \n",
    "# wrapper.config: IC asset의 결과 config입니다. \n",
    "\n",
    "# ic asset의 결과 dataframe은 wrapper.data['dataframe']으로 확인할 수 있습니다. \n",
    "wrapper.data['dataframe'].head(10) "
   ]
  }
 ],
 "metadata": {
  "kernelspec": {
   "display_name": "icEnv2",
   "language": "python",
   "name": "icenv2"
  },
  "language_info": {
   "codemirror_mode": {
    "name": "ipython",
    "version": 3
   },
   "file_extension": ".py",
   "mimetype": "text/x-python",
   "name": "python",
   "nbconvert_exporter": "python",
   "pygments_lexer": "ipython3",
   "version": "3.10.13"
  }
 },
 "nbformat": 4,
 "nbformat_minor": 5
}
